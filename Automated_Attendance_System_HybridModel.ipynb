{
  "nbformat": 4,
  "nbformat_minor": 0,
  "metadata": {
    "colab": {
      "name": "Automated-Attendance-System-HybridModel.ipynb",
      "provenance": [],
      "collapsed_sections": [],
      "include_colab_link": true
    },
    "kernelspec": {
      "name": "python3",
      "display_name": "Python 3"
    },
    "language_info": {
      "name": "python"
    },
    "accelerator": "GPU"
  },
  "cells": [
    {
      "cell_type": "markdown",
      "metadata": {
        "id": "view-in-github",
        "colab_type": "text"
      },
      "source": [
        "<a href=\"https://colab.research.google.com/github/sarthakakre27/Face-Recognition-CNN-Attendance-System/blob/main/Automated_Attendance_System_HybridModel.ipynb\" target=\"_parent\"><img src=\"https://colab.research.google.com/assets/colab-badge.svg\" alt=\"Open In Colab\"/></a>"
      ]
    },
    {
      "cell_type": "markdown",
      "metadata": {
        "id": "MfnEHPXdMO2C"
      },
      "source": [
        "#**NFT Project** on **Automated Attendance System** using **CNN** Models\n",
        "<br>\n",
        "<h4>Made under the guidance of - </h4>\n",
        "<h3>Dr. Poonam Sharma </h3>\n",
        "<h3>Santosh Sahu Sir </h3>\n",
        "<br>\n",
        "\n",
        "<h4>Submitted By - Group 17</h4>\n",
        "<h3>Sarthak Akre (BT19CSE099) , Gourav Chayande (BT19CSE021) , Nilesh Palandurkar (BT19CSE074)</h3>\n",
        "\n"
      ]
    },
    {
      "cell_type": "markdown",
      "metadata": {
        "id": "KM4HYu15ltzG"
      },
      "source": [
        "# Implementation of face recognition using neural net "
      ]
    },
    {
      "cell_type": "markdown",
      "metadata": {
        "id": "rOfj6mGFbdcE"
      },
      "source": [
        "In this project an Automated Attendance Marking System is to be designed using Face detection and Recognition technology. Taking attendance in a large class is cumbersome, repetitive, and it consumes valuable class time. To avoid these problems, we are tasked with developing an automatic attendance system using deep learning framework. An automatic attendance system based on the image processing consists of two steps: face detection and face recognition."
      ]
    },
    {
      "cell_type": "code",
      "metadata": {
        "colab": {
          "base_uri": "https://localhost:8080/"
        },
        "id": "t6vZfyovs1no",
        "outputId": "38cd7f9a-c887-44eb-8f7d-37e58a102416"
      },
      "source": [
        "from google.colab import drive\n",
        "drive.mount('/content/drive')"
      ],
      "execution_count": null,
      "outputs": [
        {
          "output_type": "stream",
          "name": "stdout",
          "text": [
            "Mounted at /content/drive\n"
          ]
        }
      ]
    },
    {
      "cell_type": "code",
      "metadata": {
        "id": "ifpftLJas39U"
      },
      "source": [
        "import matplotlib.pyplot as plt\n",
        "import numpy as np\n",
        "import os\n",
        "import tensorflow as tf\n",
        "#we are importing important libraries such as cv,numpy,os,sklearn etc\n",
        "#cv for face detection and preprocessing\n",
        "import cv2\n",
        "#numpy for data managing using arrays\n",
        "import numpy as np\n",
        "#os to input data locally\n",
        "import os\n",
        "#sk image for reading images into format suitable for training \n",
        "from skimage import io\n",
        "#to make training and testing data from overall pool of data\n",
        "from sklearn.model_selection import train_test_split\n",
        "#to plot graphs\n",
        "import matplotlib.pyplot as plt\n",
        "from tensorflow.keras.preprocessing import image_dataset_from_directory"
      ],
      "execution_count": null,
      "outputs": []
    },
    {
      "cell_type": "code",
      "metadata": {
        "id": "Be8nW3YLdMns",
        "colab": {
          "base_uri": "https://localhost:8080/"
        },
        "outputId": "9ba6a809-2d57-40f8-e59d-e3d115a66000"
      },
      "source": [
        "device_name = tf.test.gpu_device_name()\n",
        "if device_name != '/device:GPU:0':\n",
        "  raise SystemError('GPU device not found')\n",
        "print('Found GPU at: {}'.format(device_name))"
      ],
      "execution_count": null,
      "outputs": [
        {
          "output_type": "stream",
          "name": "stdout",
          "text": [
            "Found GPU at: /device:GPU:0\n"
          ]
        }
      ]
    },
    {
      "cell_type": "markdown",
      "metadata": {
        "id": "cSbQ9ltGREY0"
      },
      "source": [
        "## Listing the path of all the images"
      ]
    },
    {
      "cell_type": "markdown",
      "metadata": {
        "id": "HkBccAHug-UA"
      },
      "source": [
        "Now that each image path has been loaded we can start working on the images themselves.\n",
        "\n",
        "To make the images readable and have the data as clean as possible we will have to do preprocessing.\n",
        "\n",
        "But first lets have the labels for the corresponing data."
      ]
    },
    {
      "cell_type": "code",
      "metadata": {
        "id": "hZNctL6btC9e"
      },
      "source": [
        "#make an array for all the files \n",
        "PathForDatasetArr = []\n",
        "dir_path = \"/content/drive/MyDrive/sem 5/NFT/googleColab/dataset2/gt_db\" #change for your path of the directory of the dataset\n",
        "\n",
        "#using the os library add all the paths of the files in the specified directory to our array\n",
        "for i in os.listdir(dir_path):\n",
        "    for j in os.listdir(os.path.join(dir_path, i)):\n",
        "        PathForDatasetArr.append(os.path.join(dir_path,os.path.join(i, j)))"
      ],
      "execution_count": null,
      "outputs": []
    },
    {
      "cell_type": "markdown",
      "metadata": {
        "id": "PHE3hc8AROEZ"
      },
      "source": [
        "## Reading each image and assigning respective labels"
      ]
    },
    {
      "cell_type": "code",
      "metadata": {
        "id": "LDQuUwmatO35"
      },
      "source": [
        "#an array for storing all the images themselves from the path \n",
        "Arr_ImageMatrices = []\n",
        "\n",
        "#an array for storing all the corresponding labels to said images\n",
        "Arr_ImageLabels = []"
      ],
      "execution_count": null,
      "outputs": []
    },
    {
      "cell_type": "code",
      "metadata": {
        "id": "jrFvHlyYtT2f"
      },
      "source": [
        "it = 0\n",
        "for i in PathForDatasetArr:\n",
        "    temp_ImgRead = io.imread(i,plugin=\"pil\")#all the images are grey but still to be safer as_grey is used with python imaging library plugin\n",
        "    #we use imread to read the image file and store image data(Matrix) in the array\n",
        "    #for this dataset we are converting all images to single grayscale channel\n",
        "    Arr_ImageMatrices.append(temp_ImgRead)\n",
        "    #as all the backgrounds are same for all the images --> then we increase the 3rd dimension with the help of no. of filters\n",
        "    \n",
        "    #the processing of data was simple in our case as the dataset had convient naming convention\n",
        "    #we just split the path and made the subject value decremented by 1 (array index) as our class name or label\n",
        "    temp_LabelRead = int(os.path.split(PathForDatasetArr[it])[0].split(\"s\")[-1]) - 1\n",
        "    Arr_ImageLabels.append(temp_LabelRead)\n",
        "    it=it+1"
      ],
      "execution_count": null,
      "outputs": []
    },
    {
      "cell_type": "markdown",
      "metadata": {
        "id": "GDMCSYwWRq-S"
      },
      "source": [
        "###About the dataset:\n",
        "We are using Georgia Tech Face Database.\n",
        "\n",
        "<div>\n",
        "<img src=\"https://www.researchgate.net/profile/Tarun-Gupta-23/publication/342872018/figure/fig2/AS:961257142239233@1606192970283/Sample-Images-from-Georgia-Tech-Face-Database-GTFD-16.ppm\" width=\"600\"/>\n",
        "</div>\n",
        "\n",
        "\n",
        "Georgia Tech face database contains images of 50 people taken in two or three sessions between 06/01/99 and 11/15/99 at the Center for Signal and Image Processing at Georgia Institute of Technology.\n",
        "\n",
        "All people in the database are represented by 15 color JPEG images with cluttered background taken at resolution 640x480 pixels. The average size of the faces in these images is 150x150 pixels. The pictures show frontal and/or tilted faces with different facial expressions, lighting conditions and scale. Each image is manually labeled to determine the position of the face in the image. The images are stored in 50 directories s1, ..., s50. In each directory there are 15 images 01.jpg, ..., 15.jpg corresponding to one person in the database. \n",
        "\n",
        "Each image is manually labeled to determine the position of the face in the image.\n",
        "The label files contain four integers that describe the coordinates of the face rectangles \n",
        "and a string (s1, ..., s50) indicating the identity of the face.\n",
        "\n",
        "####Details of above:\n",
        "\n",
        "Color Images:\tYes\t\n",
        "Image Size:\t150x150\t\n",
        "Number of unique people:\t50\t\n",
        "Number of pictures per person:\t15\n",
        "Different Conditions:\tfrontal and/or tilted faces with different facial expressions, lighting conditions and scale\n",
        "Citation reference:\tAra V. Nefian and Monson H. Hayes, “Maximum likelihood training of the embedded HMM for face detection and recognition”, IEEE International Conference on Image Processing 2000.\n",
        "\n",
        "For more information click [here.](http://www.anefian.com/research/face_reco.htm)"
      ]
    },
    {
      "cell_type": "markdown",
      "metadata": {
        "id": "-NvmGvzzUBlm"
      },
      "source": [
        "##Preprocessing: Face Detection using OpenCV and cropping the image to a size of 150 X 150"
      ]
    },
    {
      "cell_type": "markdown",
      "metadata": {
        "id": "mVhfQgQpjFCu"
      },
      "source": [
        "Now that we have our images and labels assigned correctly we need to \"clean up\" or pre process the images so that model is trained correctly.\n",
        "\n",
        "For this purpose we are using openCV. OpenCV has a lot of useful features related to object detection, face detection etc.\n",
        "\n",
        "<div>\n",
        "<img src=\"https://miro.medium.com/max/1156/1*XX8WqHo0lyrgZfTTRQ3ESQ.jpeg\" width=\"400\"/>\n",
        "</div>\n",
        "\n",
        "We will use a face detection classifier called as Haarcascade.\n",
        "Haar cascades, first introduced by Viola and Jones in their seminal 2001 publication, Rapid Object Detection using a Boosted Cascade of Simple Features, are arguably OpenCV’s most popular object detection algorithm.\n",
        "\n",
        "\n",
        "\n",
        "Some Haar cascade benefits are that they’re very fast at computing features, they can detect faces in images regardless of the location or scale of the face and are capable of running in real-time.\n",
        "\n",
        "<div>\n",
        "<img src=\"https://929687.smushcdn.com/2407837/wp-content/uploads/2014/10/sliding_window_example.gif?size=323x475&lossy=1&strip=1&webp=0\" height=\"350\"/>\n",
        "</div>\n",
        "\n"
      ]
    },
    {
      "cell_type": "markdown",
      "metadata": {
        "id": "OAnMKKEuUFQX"
      },
      "source": [
        "Something to be noted here is that we are using haarcascade front face classifier but from above details about the dataset we can see that there are \"frontal and/or tilted faces with different facial expressions\", so the data in this case will be noisier and may lead to lesser accuracy overall.\n",
        "\n",
        "Also there is a lot more variation in the images in terms of ethnicity of people and even the images of people themselves as the facial features have change over the 2 year span that this was recorded.\n",
        "\n",
        "Detecting all the tilted etc images and applying the filter to those would have been bulkier operation so we chose to work with a noisier dataset instead."
      ]
    },
    {
      "cell_type": "code",
      "metadata": {
        "id": "VFPQhIoEtW8E"
      },
      "source": [
        "faceDetectClassifier = cv2.CascadeClassifier(\"/content/drive/MyDrive/sem 5/NFT/googleColab/dataset2/haarcascade_frontalface_default.xml\")"
      ],
      "execution_count": null,
      "outputs": []
    },
    {
      "cell_type": "code",
      "metadata": {
        "id": "l40_sYGAugLD"
      },
      "source": [
        "it = 0\n",
        "#we will store the filtered images in a new array\n",
        "Arr_ImageMatricesFin = []\n",
        "for i in Arr_ImageMatrices:\n",
        "    #we are just applying the filter to all the images and storing the output\n",
        "    detectedFacePoints = faceDetectClassifier.detectMultiScale(i) #returns array of the face detection guesses\n",
        "    if len(detectedFacePoints) == 0: #haarcascade faults\n",
        "        x,y = 200,100 #most general face point\n",
        "        print(str(it) + \" -----error----- \")\n",
        "    else:\n",
        "        x,y = detectedFacePoints[0][:2] #extracting the top left point for the detected face\n",
        "    #the images are not of desired shape so we crop into the detected face to change the size to 150x150\n",
        "    croppedImg = i[y: y + 150, x: x + 150] #cropping 150px in x and y direction(left and down direction)\n",
        "    Arr_ImageMatricesFin.append(croppedImg)\n",
        "    it = it + 1"
      ],
      "execution_count": null,
      "outputs": []
    },
    {
      "cell_type": "code",
      "metadata": {
        "colab": {
          "base_uri": "https://localhost:8080/",
          "height": 364
        },
        "id": "CYW8CGy3iyTD",
        "outputId": "0bfdfe75-7b1a-45b3-eba6-00fac86b21cf"
      },
      "source": [
        "#to make plots appear inline in the notebook\n",
        "%matplotlib inline\n",
        "import matplotlib.pyplot as plt\n",
        "#a side by side comparision:\n",
        "fig = plt.figure(figsize=(10, 5))\n",
        "fig.suptitle('Side  by side comparision')\n",
        "\n",
        "fig.add_subplot(1, 2, 1)\n",
        "plt.title(\"Processed image\")\n",
        "plt.imshow(Arr_ImageMatricesFin[54])\n",
        "\n",
        "fig.add_subplot(1, 2, 2)\n",
        "plt.title(\"Raw image\")\n",
        "plt.imshow(Arr_ImageMatrices[54])"
      ],
      "execution_count": null,
      "outputs": [
        {
          "output_type": "execute_result",
          "data": {
            "text/plain": [
              "<matplotlib.image.AxesImage at 0x7fa7b03637d0>"
            ]
          },
          "metadata": {},
          "execution_count": 9
        },
        {
          "output_type": "display_data",
          "data": {
            "image/png": "[encoded data removed]",
            "text/plain": [
              "<Figure size 720x360 with 2 Axes>"
            ]
          },
          "metadata": {
            "needs_background": "light"
          }
        }
      ]
    },
    {
      "cell_type": "code",
      "metadata": {
        "colab": {
          "base_uri": "https://localhost:8080/"
        },
        "id": "IYMvGW7Q5tLD",
        "outputId": "5689f851-921a-488a-a224-bc7bcd7dfae0"
      },
      "source": [
        "print(len(Arr_ImageLabels))\n",
        "print(len(Arr_ImageMatrices))\n",
        "print(len(Arr_ImageMatricesFin))"
      ],
      "execution_count": null,
      "outputs": [
        {
          "output_type": "stream",
          "name": "stdout",
          "text": [
            "750\n",
            "750\n",
            "750\n"
          ]
        }
      ]
    },
    {
      "cell_type": "markdown",
      "metadata": {
        "id": "ApOZJkt5VmlT"
      },
      "source": [
        "#Using Convolutional Neural Network(CNN) to classify faces of subjects(students in our case - label)\n"
      ]
    },
    {
      "cell_type": "markdown",
      "metadata": {
        "id": "XpWeG8uzVv1V"
      },
      "source": [
        "## Splitting Dataset into train and test"
      ]
    },
    {
      "cell_type": "markdown",
      "metadata": {
        "id": "1m3nAsRYAZzb"
      },
      "source": [
        "<div>\n",
        "<h2></h2>\n",
        "<img src=\"https://d33wubrfki0l68.cloudfront.net/c39b2d19183ed14141a8b7b03943442d40efee0d/81e2a/wp-content/uploads/2019/03/train_test_split.png\" width=\"450\"/>\n",
        "</div>\n",
        "\n",
        "For making the model we need to have 2 sets on data one for training and other for testing.\n",
        "\n",
        "The data in these also needs to be randomly selected so as to avoid overtraining.\n",
        "\n",
        "To split the testing and training data we use sklearn model_selection and it will give us the split we want for both the labels and images without losing the overall connection between them."
      ]
    },
    {
      "cell_type": "code",
      "metadata": {
        "id": "NKkjeBxYujld"
      },
      "source": [
        "X_train, X_test, y_train, y_test = train_test_split(np.array(Arr_ImageMatricesFin),np.array(Arr_ImageLabels), train_size=0.75, random_state = 42)"
      ],
      "execution_count": null,
      "outputs": []
    },
    {
      "cell_type": "code",
      "metadata": {
        "colab": {
          "base_uri": "https://localhost:8080/"
        },
        "id": "A6cXzUpT2YZA",
        "outputId": "150c7de6-395f-4152-e084-a836aa5f8ee3"
      },
      "source": [
        "#checking the dimensions after the train-test split\n",
        "X_train = np.array(X_train)\n",
        "X_test = np.array(X_test)\n",
        "print(f'X_train shape: {X_train.shape}')\n",
        "print(f'X_test shape: {X_test.shape}')\n",
        "#600 images for training and 150 images for testing"
      ],
      "execution_count": null,
      "outputs": [
        {
          "output_type": "stream",
          "name": "stdout",
          "text": [
            "X_train shape: (562, 150, 150, 3)\n",
            "X_test shape: (188, 150, 150, 3)\n"
          ]
        }
      ]
    },
    {
      "cell_type": "code",
      "metadata": {
        "colab": {
          "base_uri": "https://localhost:8080/"
        },
        "id": "G-dOjwWw2aTU",
        "outputId": "5dfb70ef-d506-4b1f-a592-6009e7633be1"
      },
      "source": [
        "#number of classes is 50\n",
        "total_classes = 50\n",
        "y_train = np.array(y_train) \n",
        "y_test = np.array(y_test)\n",
        "print(f'y_train shape: {y_train.shape}')\n",
        "print(f'y_test shape: {y_test.shape}')"
      ],
      "execution_count": null,
      "outputs": [
        {
          "output_type": "stream",
          "name": "stdout",
          "text": [
            "y_train shape: (562,)\n",
            "y_test shape: (188,)\n"
          ]
        }
      ]
    },
    {
      "cell_type": "code",
      "metadata": {
        "id": "rjHj6G2k2kX_"
      },
      "source": [
        "#As we are using keras to help train our model we have to import those libraries as well\n",
        "import keras\n",
        "from keras.models import Sequential, load_model #sequential layers in CNN, load the computed model\n",
        "from keras.layers import Conv2D, MaxPooling2D, Dense, Flatten, Dropout, Activation #layers, functions, utilities for each layer\n",
        "#from keras.models import Sequential\n",
        "from tensorflow.keras.optimizers import Adam #optimizer for the network\n",
        "from keras.callbacks import TensorBoard\n",
        "from keras.utils import np_utils #convert to one-hot-vector\n",
        "#from keras.layers import Dense, Dropout, Activation\n",
        "#from PIL import Image"
      ],
      "execution_count": null,
      "outputs": []
    },
    {
      "cell_type": "markdown",
      "metadata": {
        "id": "cdhv-MJDbEOM"
      },
      "source": [
        "\n",
        "<div>\n",
        "<img src=\"https://www.andreaperlato.com/img/onehot%20encode.png\" width=\"600\"/>\n",
        "</div>"
      ]
    },
    {
      "cell_type": "code",
      "metadata": {
        "colab": {
          "base_uri": "https://localhost:8080/"
        },
        "id": "pn6XUHLT2dcW",
        "outputId": "4b49d413-cfed-40c6-feeb-838ad6bdd7cd"
      },
      "source": [
        "#np_utils.to_categorical is used to convert array of labeled data(from 0 to total_classes - 1) to one-hot vector.\n",
        "Y_train = np_utils.to_categorical(y_train, total_classes)\n",
        "Y_test = np_utils.to_categorical(y_test, total_classes)\n",
        "print(f'Y_train shape: {Y_train.shape}')\n",
        "print(f'Y_test shape: {Y_test.shape}')\n",
        "#split for each class corresponding to each vector\n",
        "print(f'one hot vector - {Y_train[0]}')"
      ],
      "execution_count": null,
      "outputs": [
        {
          "output_type": "stream",
          "name": "stdout",
          "text": [
            "Y_train shape: (562, 50)\n",
            "Y_test shape: (188, 50)\n",
            "one hot vector - [0. 0. 0. 0. 0. 0. 0. 0. 0. 0. 0. 0. 0. 0. 0. 0. 0. 0. 1. 0. 0. 0. 0. 0.\n",
            " 0. 0. 0. 0. 0. 0. 0. 0. 0. 0. 0. 0. 0. 0. 0. 0. 0. 0. 0. 0. 0. 0. 0. 0.\n",
            " 0. 0.]\n"
          ]
        }
      ]
    },
    {
      "cell_type": "markdown",
      "metadata": {
        "id": "Fv1LqGjaWJwF"
      },
      "source": [
        "#Making the models\n"
      ]
    },
    {
      "cell_type": "markdown",
      "metadata": {
        "id": "BskLlKgVwKcZ"
      },
      "source": [
        "For this assignment we were tasked to combine multiple models into one to increase the robustness of the predictions and increase the verstility of the project.\n"
      ]
    },
    {
      "cell_type": "markdown",
      "metadata": {
        "id": "-yCRlURowZPL"
      },
      "source": [
        "So we chose a few different models to accomplish the task, below we will go over them one by one."
      ]
    },
    {
      "cell_type": "code",
      "metadata": {
        "id": "yiXzMyFJieC6"
      },
      "source": [
        "import keras,os\n",
        "from keras.models import Sequential\n",
        "from keras.models import Model\n",
        "from keras.layers import Lambda, Activation, Input, Conv2D, ZeroPadding2D, MaxPooling2D, Flatten, Dense, Dropout, concatenate\n",
        "from tensorflow.keras.layers import Concatenate\n",
        "from keras import backend as K\n",
        "from keras.preprocessing.image import ImageDataGenerator\n",
        "import numpy as np"
      ],
      "execution_count": null,
      "outputs": []
    },
    {
      "cell_type": "code",
      "metadata": {
        "id": "MY5I7W6YlXO5"
      },
      "source": [
        "from keras.models import Model\n",
        "from keras.layers import Input, Conv2D, MaxPooling2D, AveragePooling2D, Flatten, GlobalAveragePooling2D, Dense, Dropout\n",
        "from keras.layers.merge import concatenate\n",
        "from keras.layers import *"
      ],
      "execution_count": null,
      "outputs": []
    },
    {
      "cell_type": "markdown",
      "metadata": {
        "id": "CWX-GJkpwrqf"
      },
      "source": [
        "##VGG16 (Visual Geometry Group)"
      ]
    },
    {
      "cell_type": "markdown",
      "metadata": {
        "id": "-hl4y1DSxMTL"
      },
      "source": [
        "The VGG16 Architecture was developed and introduced by Karen Simonyan and Andrew Zisserman from the University of Oxford, in the year 2014, through their article “Very Deep Convolutional Networks for Large-Scale Image Recognition.”\n",
        "\n",
        "\n",
        "<div>\n",
        "<img src=\"https://neurohive.io/wp-content/uploads/2018/11/vgg16-1-e1542731207177.png\" width=\"650\"/>\n",
        "</div>\n",
        "\n",
        "\n"
      ]
    },
    {
      "cell_type": "markdown",
      "metadata": {
        "id": "sh2TY8tcxmJC"
      },
      "source": [
        "Most unique thing about VGG16 is that instead of having a large number of hyper-parameter they focused on having convolution layers of 3x3 filter with a stride 1 and always used same padding and maxpool layer of 2x2 filter of stride 2. It follows this arrangement of convolution and max pool layers consistently throughout the whole architecture.\n",
        "\n",
        "<div>\n",
        "<img src=\"https://neurohive.io/wp-content/uploads/2018/11/vgg16.png\" width=\"700\"/>\n",
        "</div>\n"
      ]
    },
    {
      "cell_type": "markdown",
      "metadata": {
        "id": "NMyY2fw1xzoS"
      },
      "source": [
        "In the end it has 2 FC(fully connected layers) followed by a softmax for output. The 16 in VGG16 refers to it has 16 layers that have weights. This network is a pretty large network and it has about 138 million (approx) parameters."
      ]
    },
    {
      "cell_type": "markdown",
      "metadata": {
        "id": "U9jXAH5nyD5x"
      },
      "source": [
        "The VGG16 model achieved 92.7% top-5 test accuracy in ImageNet, which is a dataset of over 14 million images belonging to 1000 classes. It was one of the famous models submitted to ImageNet Large Scale Visual Recognition Challenge (ILSVRC) in the year 2014. It made improvements over AlexNet architecture by replacing large kernel-sized filters (11 and 5 in the first and second convolutional layer, respectively) with multiple three × three kernel-sized filters one after another. VGG16 was trained for weeks using NVIDIA Titan Black GPUs.\n",
        "VGG16 is used in many deep learning image classification techniques and is popular due to its ease of implementation. VGG16 is extensively used in learning applications due to the advantage that it has."
      ]
    },
    {
      "cell_type": "markdown",
      "metadata": {
        "id": "EU5MLrV7y1y5"
      },
      "source": [
        "The two major drawbacks with VGG Net are:\n",
        "\n",
        "1.   It is very slow to train.\n",
        "2.   The weights of the network architecture are quite large themselves (a concern for disk and bandwidth)\n",
        "\n",
        "In spite of these, the following advantages outweigh the drawbacks.\n",
        "\n",
        "1.   It is easy to implement and is a great building block for learning purposes.\n",
        "2.   VGG16 can be pre-trained on ImageNet.\n",
        "\n",
        "VGG16 can be used for transfer learning as we have done below."
      ]
    },
    {
      "cell_type": "code",
      "metadata": {
        "id": "PPZOnxYxcsxh"
      },
      "source": [
        "from keras.applications import vgg16\n",
        "from tensorflow.keras.applications.inception_v3 import InceptionV3"
      ],
      "execution_count": null,
      "outputs": []
    },
    {
      "cell_type": "code",
      "metadata": {
        "id": "km22ZSticst8",
        "colab": {
          "base_uri": "https://localhost:8080/"
        },
        "outputId": "8a7d85f8-7ecc-4358-8246-36c31fe17425"
      },
      "source": [
        "vgg16_model = vgg16.VGG16(weights='imagenet', include_top=False, input_shape=(150,150,3))"
      ],
      "execution_count": null,
      "outputs": [
        {
          "output_type": "stream",
          "name": "stdout",
          "text": [
            "Downloading data from https://storage.googleapis.com/tensorflow/keras-applications/vgg16/vgg16_weights_tf_dim_ordering_tf_kernels_notop.h5\n",
            "58892288/58889256 [==============================] - 1s 0us/step\n",
            "58900480/58889256 [==============================] - 1s 0us/step\n"
          ]
        }
      ]
    },
    {
      "cell_type": "code",
      "metadata": {
        "colab": {
          "base_uri": "https://localhost:8080/"
        },
        "id": "uDIq-VfDimBt",
        "outputId": "1554e639-466c-42a7-b8c1-650379e98b24"
      },
      "source": [
        "vgg16_model_out = vgg16_model.output\n",
        "vgg16_model_flatten = Flatten()(vgg16_model_out)\n",
        "vgg16_model_dense1 = Dense(512, activation='relu')(vgg16_model_flatten)\n",
        "vgg16_model = Model(vgg16_model.input,vgg16_model_dense1)\n",
        "for layer in vgg16_model.layers:\n",
        "    layer._name = layer.name + str('_C')\n",
        "print(vgg16_model.summary())"
      ],
      "execution_count": null,
      "outputs": [
        {
          "output_type": "stream",
          "name": "stdout",
          "text": [
            "Model: \"model\"\n",
            "_________________________________________________________________\n",
            "Layer (type)                 Output Shape              Param #   \n",
            "=================================================================\n",
            "input_1_C (InputLayer)       [(None, 150, 150, 3)]     0         \n",
            "_________________________________________________________________\n",
            "block1_conv1_C (Conv2D)      (None, 150, 150, 64)      1792      \n",
            "_________________________________________________________________\n",
            "block1_conv2_C (Conv2D)      (None, 150, 150, 64)      36928     \n",
            "_________________________________________________________________\n",
            "block1_pool_C (MaxPooling2D) (None, 75, 75, 64)        0         \n",
            "_________________________________________________________________\n",
            "block2_conv1_C (Conv2D)      (None, 75, 75, 128)       73856     \n",
            "_________________________________________________________________\n",
            "block2_conv2_C (Conv2D)      (None, 75, 75, 128)       147584    \n",
            "_________________________________________________________________\n",
            "block2_pool_C (MaxPooling2D) (None, 37, 37, 128)       0         \n",
            "_________________________________________________________________\n",
            "block3_conv1_C (Conv2D)      (None, 37, 37, 256)       295168    \n",
            "_________________________________________________________________\n",
            "block3_conv2_C (Conv2D)      (None, 37, 37, 256)       590080    \n",
            "_________________________________________________________________\n",
            "block3_conv3_C (Conv2D)      (None, 37, 37, 256)       590080    \n",
            "_________________________________________________________________\n",
            "block3_pool_C (MaxPooling2D) (None, 18, 18, 256)       0         \n",
            "_________________________________________________________________\n",
            "block4_conv1_C (Conv2D)      (None, 18, 18, 512)       1180160   \n",
            "_________________________________________________________________\n",
            "block4_conv2_C (Conv2D)      (None, 18, 18, 512)       2359808   \n",
            "_________________________________________________________________\n",
            "block4_conv3_C (Conv2D)      (None, 18, 18, 512)       2359808   \n",
            "_________________________________________________________________\n",
            "block4_pool_C (MaxPooling2D) (None, 9, 9, 512)         0         \n",
            "_________________________________________________________________\n",
            "block5_conv1_C (Conv2D)      (None, 9, 9, 512)         2359808   \n",
            "_________________________________________________________________\n",
            "block5_conv2_C (Conv2D)      (None, 9, 9, 512)         2359808   \n",
            "_________________________________________________________________\n",
            "block5_conv3_C (Conv2D)      (None, 9, 9, 512)         2359808   \n",
            "_________________________________________________________________\n",
            "block5_pool_C (MaxPooling2D) (None, 4, 4, 512)         0         \n",
            "_________________________________________________________________\n",
            "flatten_C (Flatten)          (None, 8192)              0         \n",
            "_________________________________________________________________\n",
            "dense_C (Dense)              (None, 512)               4194816   \n",
            "=================================================================\n",
            "Total params: 18,909,504\n",
            "Trainable params: 18,909,504\n",
            "Non-trainable params: 0\n",
            "_________________________________________________________________\n",
            "None\n"
          ]
        }
      ]
    },
    {
      "cell_type": "markdown",
      "metadata": {
        "id": "4PguSFCYyeWd"
      },
      "source": [
        "##VGG19 (Visual Geometry Group)"
      ]
    },
    {
      "cell_type": "markdown",
      "metadata": {
        "id": "mxVnJl4Hzj6q"
      },
      "source": [
        "\n",
        "VGG19 is a variant of the VGG model which in short consists of 19 layers (16 convolution layers, 3 Fully connected layer, 5 MaxPool layers and 1 SoftMax layer). There are other variants of VGG like VGG11, VGG16 and others. VGG19 has 19.6 billion FLOPs.\n",
        "<div>\n",
        "<img src=\"https://miro.medium.com/max/875/1*Q_bg1E3trWcjdk9_jnVGwg.png\" width=\"700\"/>\n",
        "</div>\n",
        "VGG-19 is a convolutional neural network that is trained on more than a million images from the ImageNet database. The network is 19 layers deep and can classify images into 1000 object categories, such as a keyboard, mouse, pencil, and many animals. As a result, the network has learned rich feature representations for a wide range of images.\n"
      ]
    },
    {
      "cell_type": "code",
      "metadata": {
        "id": "Qtnq8pZ7csjB"
      },
      "source": [
        "from keras.applications import vgg19"
      ],
      "execution_count": null,
      "outputs": []
    },
    {
      "cell_type": "code",
      "metadata": {
        "id": "UIpbrOwfcsfZ",
        "colab": {
          "base_uri": "https://localhost:8080/"
        },
        "outputId": "e11ddbf9-4c70-4efb-d2e1-f085f9f01ebb"
      },
      "source": [
        "vgg19_model = vgg19.VGG19(weights='imagenet', include_top=False, input_shape=(150,150,3))"
      ],
      "execution_count": null,
      "outputs": [
        {
          "output_type": "stream",
          "name": "stdout",
          "text": [
            "Downloading data from https://storage.googleapis.com/tensorflow/keras-applications/vgg19/vgg19_weights_tf_dim_ordering_tf_kernels_notop.h5\n",
            "80142336/80134624 [==============================] - 1s 0us/step\n",
            "80150528/80134624 [==============================] - 1s 0us/step\n"
          ]
        }
      ]
    },
    {
      "cell_type": "code",
      "metadata": {
        "colab": {
          "base_uri": "https://localhost:8080/"
        },
        "id": "SqQdLdKKkF8I",
        "outputId": "db335bb6-e489-4a2a-c7c3-3a1b0e2cb6cf"
      },
      "source": [
        "vgg19_model_out = vgg19_model.output\n",
        "vgg19_model_flatten = Flatten()(vgg19_model_out)\n",
        "vgg19_model_dense1 = Dense(512, activation='relu')(vgg19_model_flatten)\n",
        "vgg19_model = Model(vgg19_model.input,vgg19_model_dense1)\n",
        "print(vgg19_model.summary())"
      ],
      "execution_count": null,
      "outputs": [
        {
          "output_type": "stream",
          "name": "stdout",
          "text": [
            "Model: \"model_1\"\n",
            "_________________________________________________________________\n",
            "Layer (type)                 Output Shape              Param #   \n",
            "=================================================================\n",
            "input_2 (InputLayer)         [(None, 150, 150, 3)]     0         \n",
            "_________________________________________________________________\n",
            "block1_conv1 (Conv2D)        (None, 150, 150, 64)      1792      \n",
            "_________________________________________________________________\n",
            "block1_conv2 (Conv2D)        (None, 150, 150, 64)      36928     \n",
            "_________________________________________________________________\n",
            "block1_pool (MaxPooling2D)   (None, 75, 75, 64)        0         \n",
            "_________________________________________________________________\n",
            "block2_conv1 (Conv2D)        (None, 75, 75, 128)       73856     \n",
            "_________________________________________________________________\n",
            "block2_conv2 (Conv2D)        (None, 75, 75, 128)       147584    \n",
            "_________________________________________________________________\n",
            "block2_pool (MaxPooling2D)   (None, 37, 37, 128)       0         \n",
            "_________________________________________________________________\n",
            "block3_conv1 (Conv2D)        (None, 37, 37, 256)       295168    \n",
            "_________________________________________________________________\n",
            "block3_conv2 (Conv2D)        (None, 37, 37, 256)       590080    \n",
            "_________________________________________________________________\n",
            "block3_conv3 (Conv2D)        (None, 37, 37, 256)       590080    \n",
            "_________________________________________________________________\n",
            "block3_conv4 (Conv2D)        (None, 37, 37, 256)       590080    \n",
            "_________________________________________________________________\n",
            "block3_pool (MaxPooling2D)   (None, 18, 18, 256)       0         \n",
            "_________________________________________________________________\n",
            "block4_conv1 (Conv2D)        (None, 18, 18, 512)       1180160   \n",
            "_________________________________________________________________\n",
            "block4_conv2 (Conv2D)        (None, 18, 18, 512)       2359808   \n",
            "_________________________________________________________________\n",
            "block4_conv3 (Conv2D)        (None, 18, 18, 512)       2359808   \n",
            "_________________________________________________________________\n",
            "block4_conv4 (Conv2D)        (None, 18, 18, 512)       2359808   \n",
            "_________________________________________________________________\n",
            "block4_pool (MaxPooling2D)   (None, 9, 9, 512)         0         \n",
            "_________________________________________________________________\n",
            "block5_conv1 (Conv2D)        (None, 9, 9, 512)         2359808   \n",
            "_________________________________________________________________\n",
            "block5_conv2 (Conv2D)        (None, 9, 9, 512)         2359808   \n",
            "_________________________________________________________________\n",
            "block5_conv3 (Conv2D)        (None, 9, 9, 512)         2359808   \n",
            "_________________________________________________________________\n",
            "block5_conv4 (Conv2D)        (None, 9, 9, 512)         2359808   \n",
            "_________________________________________________________________\n",
            "block5_pool (MaxPooling2D)   (None, 4, 4, 512)         0         \n",
            "_________________________________________________________________\n",
            "flatten_1 (Flatten)          (None, 8192)              0         \n",
            "_________________________________________________________________\n",
            "dense_1 (Dense)              (None, 512)               4194816   \n",
            "=================================================================\n",
            "Total params: 24,219,200\n",
            "Trainable params: 24,219,200\n",
            "Non-trainable params: 0\n",
            "_________________________________________________________________\n",
            "None\n"
          ]
        }
      ]
    },
    {
      "cell_type": "markdown",
      "metadata": {
        "id": "FcoiBW9G0v9m"
      },
      "source": [
        "###VGGFace"
      ]
    },
    {
      "cell_type": "markdown",
      "metadata": {
        "id": "dH2yOnXthRb3"
      },
      "source": [
        "<!-- ![pic to edit](https://qphs.fs.quoracdn.net/main-qimg-935f98c5a89271addd3c467b0c2f4311) -->\n",
        "\n",
        "<img src=\"https://i1.wp.com/sefiks.com/wp-content/uploads/2019/04/vgg-face-architecture.jpg?w=1805&ssl=1\" width=\"900\"/>"
      ]
    },
    {
      "cell_type": "markdown",
      "metadata": {
        "id": "lP4QTRjVTTms"
      },
      "source": [
        "Here we are using a specialized pre trained model called VGGFace for classification of faces.\n",
        "\n",
        "The VGGFace refers to a series of models developed for face recognition and demonstrated on benchmark computer vision datasets by members of the Visual Geometry Group (VGG) at the University of Oxford. ([link](http://www.robots.ox.ac.uk/~vgg/))\n",
        "\n"
      ]
    },
    {
      "cell_type": "markdown",
      "metadata": {
        "id": "5E-fmJ9kX2U9"
      },
      "source": [
        "<img src=\"https://i2.wp.com/sefiks.com/wp-content/uploads/2018/08/vgg-face-model.png?w=1080&ssl=1\" width=\"1000\"/>"
      ]
    },
    {
      "cell_type": "markdown",
      "metadata": {
        "id": "4dFShQgeT9-m"
      },
      "source": [
        "The VGGFace model, named later, was described by Omkar Parkhi in the 2015 paper titled “Deep Face Recognition.”\n",
        "\n",
        "A contribution of the paper was a description of how to develop a very large training dataset, required to train modern-convolutional-neural-network-based face recognition systems, to compete with the large datasets used to train models at Facebook and Google.\n",
        "This dataset is then used as the basis for developing deep CNNs for face recognition tasks such as face identification and verification. Specifically, models are trained on the very large dataset, then evaluated on benchmark face recognition datasets, demonstrating that the model is effective at generating generalized features from faces.\n",
        "\n",
        "They describe the process of training a face classifier first that uses a softmax activation function in the output layer to classify faces as people. This layer is then removed so that the output of the network is a vector feature representation of the face, called a face embedding. The model is then further trained, via fine-tuning, in order that the Euclidean distance between vectors generated for the same identity are made smaller and the vectors generated for different identities is made larger. This is achieved using a triplet loss function.\n",
        "\n",
        "A deep convolutional neural network architecture is used in the VGG style, with blocks of convolutional layers with small kernels and ReLU activations followed by max pooling layers, and the use of fully connected layers in the classifier end of the network."
      ]
    },
    {
      "cell_type": "markdown",
      "metadata": {
        "id": "k3Wo1l7jVvMS"
      },
      "source": [
        "The authors of VGGFace provide the source code for their models, as well as pre-trained models that can be downloaded with standard deep learning frameworks such as Caffe and PyTorch, although there are not examples for TensorFlow or Keras.\n",
        "\n",
        "We could convert the provided models to TensorFlow or Keras format and develop a model definition in order to load and use these pre-trained models. This work has already been done and can be used directly by third-party projects and libraries.\n",
        "\n",
        "The library for using the VGGFace models in Keras is the keras-vggface project and library by Refik Can Malli.\n",
        "\n",
        "Given that this is a third-party open-source project and subject to change, we have created a fork of the project here."
      ]
    },
    {
      "cell_type": "code",
      "metadata": {
        "colab": {
          "base_uri": "https://localhost:8080/"
        },
        "id": "IMFLgsrxOiCV",
        "outputId": "9125d2bb-a832-4e87-dc50-57ac0c949206"
      },
      "source": [
        "! pip install git+https://github.com/rcmalli/keras-vggface.git\n",
        "!pip install keras_applications --no-deps\n",
        "filename = \"/usr/local/lib/python3.7/dist-packages/keras_vggface/models.py\"\n",
        "text = open(filename).read()\n",
        "open(filename, \"w+\").write(text.replace('keras.engine.topology', 'tensorflow.keras.utils'))\n",
        "import tensorflow as tf\n",
        "\n",
        "from keras_vggface.vggface import VGGFace"
      ],
      "execution_count": null,
      "outputs": [
        {
          "output_type": "stream",
          "name": "stdout",
          "text": [
            "Collecting git+https://github.com/rcmalli/keras-vggface.git\n",
            "  Cloning https://github.com/rcmalli/keras-vggface.git to /tmp/pip-req-build-m_wj_fxg\n",
            "  Running command git clone -q https://github.com/rcmalli/keras-vggface.git /tmp/pip-req-build-m_wj_fxg\n",
            "Requirement already satisfied: numpy>=1.9.1 in /usr/local/lib/python3.7/dist-packages (from keras-vggface==0.6) (1.19.5)\n",
            "Requirement already satisfied: scipy>=0.14 in /usr/local/lib/python3.7/dist-packages (from keras-vggface==0.6) (1.4.1)\n",
            "Requirement already satisfied: h5py in /usr/local/lib/python3.7/dist-packages (from keras-vggface==0.6) (3.1.0)\n",
            "Requirement already satisfied: pillow in /usr/local/lib/python3.7/dist-packages (from keras-vggface==0.6) (7.1.2)\n",
            "Requirement already satisfied: keras in /usr/local/lib/python3.7/dist-packages (from keras-vggface==0.6) (2.6.0)\n",
            "Requirement already satisfied: six>=1.9.0 in /usr/local/lib/python3.7/dist-packages (from keras-vggface==0.6) (1.15.0)\n",
            "Requirement already satisfied: pyyaml in /usr/local/lib/python3.7/dist-packages (from keras-vggface==0.6) (3.13)\n",
            "Requirement already satisfied: cached-property in /usr/local/lib/python3.7/dist-packages (from h5py->keras-vggface==0.6) (1.5.2)\n",
            "Building wheels for collected packages: keras-vggface\n",
            "  Building wheel for keras-vggface (setup.py) ... \u001b[?25l\u001b[?25hdone\n",
            "  Created wheel for keras-vggface: filename=keras_vggface-0.6-py3-none-any.whl size=8325 sha256=cb7699d9633b4261a88b78ed449b6967dfdeb5af77c3743dd4bef301b9bf9ccf\n",
            "  Stored in directory: /tmp/pip-ephem-wheel-cache-79bhwu78/wheels/08/df/86/0225d44647ab2256dbf1e006823288fe9cc86367a056e6ea2c\n",
            "Successfully built keras-vggface\n",
            "Installing collected packages: keras-vggface\n",
            "Successfully installed keras-vggface-0.6\n",
            "Collecting keras_applications\n",
            "  Downloading Keras_Applications-1.0.8-py3-none-any.whl (50 kB)\n",
            "\u001b[K     |████████████████████████████████| 50 kB 2.9 MB/s \n",
            "\u001b[?25hInstalling collected packages: keras-applications\n",
            "Successfully installed keras-applications-1.0.8\n"
          ]
        }
      ]
    },
    {
      "cell_type": "markdown",
      "metadata": {
        "id": "lIWlfOHJVXFy"
      },
      "source": [
        "A VGGFace model can be created using the VGGFace() constructor and specifying the type of model to create via the ‘model‘ argument. \n",
        "\n",
        "The keras-vggface library provides three pre-trained VGGModels, a VGGFace1 model via model=’vgg16′ (the default), and two VGGFace2 models ‘resnet50‘ and ‘senet50‘.\n",
        "\n",
        "First, we can load the VGGFace model without the classifier by setting the ‘include_top‘ argument to ‘False‘, specifying the shape of the output via the ‘input_shape‘ and setting ‘pooling‘ to ‘avg‘ so that the filter maps at the output end of the model are reduced to a vector using global average pooling."
      ]
    },
    {
      "cell_type": "code",
      "metadata": {
        "colab": {
          "base_uri": "https://localhost:8080/"
        },
        "id": "KdzJCRuJOh1G",
        "outputId": "914d4cde-ea1c-44ba-f9d2-c250c72bcd6d"
      },
      "source": [
        "nb_class = 50\n",
        "hidden_dim = 512\n",
        "\n",
        "vgg_notop = VGGFace(include_top=False, input_shape=(150, 150, 3))\n",
        "for layer in vgg_notop.layers:\n",
        "    layer.trainable = False\n",
        "\n",
        "last_layer = vgg_notop.get_layer('pool5').output\n",
        "\n",
        "x = Flatten(name='flatten')(last_layer)\n",
        "x = Dense(512, activation='relu', name='fc6')(x)\n",
        "\n",
        "custom_vgg_model = keras.Model(vgg_notop.input, x)\n",
        "custom_vgg_model.summary()"
      ],
      "execution_count": null,
      "outputs": [
        {
          "output_type": "stream",
          "name": "stdout",
          "text": [
            "Downloading data from https://github.com/rcmalli/keras-vggface/releases/download/v2.0/rcmalli_vggface_tf_notop_vgg16.h5\n",
            "58916864/58909280 [==============================] - 1s 0us/step\n",
            "58925056/58909280 [==============================] - 1s 0us/step\n",
            "Model: \"model_2\"\n",
            "_________________________________________________________________\n",
            "Layer (type)                 Output Shape              Param #   \n",
            "=================================================================\n",
            "input_3 (InputLayer)         [(None, 150, 150, 3)]     0         \n",
            "_________________________________________________________________\n",
            "conv1_1 (Conv2D)             (None, 150, 150, 64)      1792      \n",
            "_________________________________________________________________\n",
            "conv1_2 (Conv2D)             (None, 150, 150, 64)      36928     \n",
            "_________________________________________________________________\n",
            "pool1 (MaxPooling2D)         (None, 75, 75, 64)        0         \n",
            "_________________________________________________________________\n",
            "conv2_1 (Conv2D)             (None, 75, 75, 128)       73856     \n",
            "_________________________________________________________________\n",
            "conv2_2 (Conv2D)             (None, 75, 75, 128)       147584    \n",
            "_________________________________________________________________\n",
            "pool2 (MaxPooling2D)         (None, 37, 37, 128)       0         \n",
            "_________________________________________________________________\n",
            "conv3_1 (Conv2D)             (None, 37, 37, 256)       295168    \n",
            "_________________________________________________________________\n",
            "conv3_2 (Conv2D)             (None, 37, 37, 256)       590080    \n",
            "_________________________________________________________________\n",
            "conv3_3 (Conv2D)             (None, 37, 37, 256)       590080    \n",
            "_________________________________________________________________\n",
            "pool3 (MaxPooling2D)         (None, 18, 18, 256)       0         \n",
            "_________________________________________________________________\n",
            "conv4_1 (Conv2D)             (None, 18, 18, 512)       1180160   \n",
            "_________________________________________________________________\n",
            "conv4_2 (Conv2D)             (None, 18, 18, 512)       2359808   \n",
            "_________________________________________________________________\n",
            "conv4_3 (Conv2D)             (None, 18, 18, 512)       2359808   \n",
            "_________________________________________________________________\n",
            "pool4 (MaxPooling2D)         (None, 9, 9, 512)         0         \n",
            "_________________________________________________________________\n",
            "conv5_1 (Conv2D)             (None, 9, 9, 512)         2359808   \n",
            "_________________________________________________________________\n",
            "conv5_2 (Conv2D)             (None, 9, 9, 512)         2359808   \n",
            "_________________________________________________________________\n",
            "conv5_3 (Conv2D)             (None, 9, 9, 512)         2359808   \n",
            "_________________________________________________________________\n",
            "pool5 (MaxPooling2D)         (None, 4, 4, 512)         0         \n",
            "_________________________________________________________________\n",
            "flatten (Flatten)            (None, 8192)              0         \n",
            "_________________________________________________________________\n",
            "fc6 (Dense)                  (None, 512)               4194816   \n",
            "=================================================================\n",
            "Total params: 18,909,504\n",
            "Trainable params: 4,194,816\n",
            "Non-trainable params: 14,714,688\n",
            "_________________________________________________________________\n"
          ]
        }
      ]
    },
    {
      "cell_type": "markdown",
      "metadata": {
        "id": "IYidQsor2H6v"
      },
      "source": [
        "###GoogLe Net"
      ]
    },
    {
      "cell_type": "markdown",
      "metadata": {
        "id": "-Lov7nVX2M0d"
      },
      "source": [
        "Google Net (or Inception V1) was proposed by research at Google (with the collaboration of various universities) in 2014 in the research paper titled “Going Deeper with Convolutions”.\n",
        "<img src=\"https://media.geeksforgeeks.org/wp-content/uploads/20200429201549/Inceptionv1_architecture.png\" width=\"1200\"/>\n"
      ]
    },
    {
      "cell_type": "markdown",
      "metadata": {
        "id": "gYB9pZKq2aHl"
      },
      "source": [
        "The GoogLeNet architecture consists of 22 layers (27 layers including pooling layers), and part of these layers are a total of 9 inception modules(figure4)."
      ]
    },
    {
      "cell_type": "markdown",
      "metadata": {
        "id": "HBp3N8mq3Hf5"
      },
      "source": [
        "One method the GoogLeNet achieves efficiency is through reduction of the input image, whilst simultaneously retaining important spatial information.\n",
        "The first conv layer in figure 2 uses a filter(patch) size of 7x7, which is relatively large compared to other patch sizes within the network. This layer's primary purpose is to immediately reduce the input image, but not lose spatial information by utilising large filter sizes.\n",
        "\n",
        "The second conv layer has a depth of two and leverages the 1x1 conv block, which as the effect of dimensionality reduction. Dimensionality reduction through 1x1 conv block allows the decrease of computational load by lessening the layers' number of operations."
      ]
    },
    {
      "cell_type": "markdown",
      "metadata": {
        "id": "3-1d3r9x3Mlr"
      },
      "source": [
        "**Inception Module:**<br>\n",
        "The inception module is different from previous architectures such as AlexNet, ZF-Net. In this architecture, there is a fixed convolution size for each layer. \n",
        "In the Inception module 1×1, 3×3, 5×5 convolution and 3×3 max pooling performed in a parallel way at the input and the output of these are stacked together to generated final output. The idea behind that convolution filters of different sizes will handle objects at multiple scale better."
      ]
    },
    {
      "cell_type": "code",
      "metadata": {
        "id": "mdaPXeHW3eey"
      },
      "source": [
        "def Inception_block(input_layer, f1, f2_conv1, f2_conv3, f3_conv1, f3_conv5, f4): \n",
        "  # - f1: number of filters of the 1x1 convolutional layer in the first path\n",
        "  # - f2_conv1, f2_conv3 are number of filters corresponding to the 1x1 and 3x3 convolutional layers in the second path\n",
        "  # - f3_conv1, f3_conv5 are the number of filters corresponding to the 1x1 and 5x5  convolutional layer in the third path\n",
        "  # - f4: number of filters of the 1x1 convolutional layer in the fourth path\n",
        "\n",
        "  # 1st path:\n",
        "  path1 = Conv2D(filters=f1, kernel_size = (1,1), padding = 'same', activation = 'relu')(input_layer)\n",
        "\n",
        "  # 2nd path\n",
        "  path2 = Conv2D(filters = f2_conv1, kernel_size = (1,1), padding = 'same', activation = 'relu')(input_layer)\n",
        "  path2 = Conv2D(filters = f2_conv3, kernel_size = (3,3), padding = 'same', activation = 'relu')(path2)\n",
        "\n",
        "  # 3rd path\n",
        "  path3 = Conv2D(filters = f3_conv1, kernel_size = (1,1), padding = 'same', activation = 'relu')(input_layer)\n",
        "  path3 = Conv2D(filters = f3_conv5, kernel_size = (5,5), padding = 'same', activation = 'relu')(path3)\n",
        "\n",
        "  # 4th path\n",
        "  path4 = MaxPooling2D((3,3), strides= (1,1), padding = 'same')(input_layer)\n",
        "  path4 = Conv2D(filters = f4, kernel_size = (1,1), padding = 'same', activation = 'relu')(path4)\n",
        "\n",
        "  output_layer = concatenate([path1, path2, path3, path4], axis = -1)\n",
        "\n",
        "  return output_layer"
      ],
      "execution_count": null,
      "outputs": []
    },
    {
      "cell_type": "markdown",
      "metadata": {
        "id": "nEaIrpWd3cwQ"
      },
      "source": [
        "**Auxilary Classifiers** <br>\n",
        "Inception architecture used some intermediate classifier branches in the middle of the architecture, these branches are used during training only.\n",
        "One main problem of an extensive network is that they suffer from vanishing gradient descent.\n",
        "Auxilary Classifiers are added to the intermediate layers of the architecture.\n",
        "Auxilary Classifiers are only utilised during training and removed during inference. \n",
        "The loss of auxiliary classifiers is weighted, meaning the calculated loss is multiplied by 0.3.\n",
        "\n",
        "GoogLe Net has multiple outputs but we are only using one of those outputs currently."
      ]
    },
    {
      "cell_type": "code",
      "metadata": {
        "id": "sU-GxSrRijB8"
      },
      "source": [
        "def GoogLeNet():\n",
        "  # input layer \n",
        "  input_layer = Input(shape = (150, 150, 3))\n",
        "\n",
        "  # convolutional layer: filters = 64, kernel_size = (7,7), strides = 2\n",
        "  X = Conv2D(filters = 64, kernel_size = (7,7), strides = 2, padding = 'valid', activation = 'relu')(input_layer)\n",
        "\n",
        "  # max-pooling layer: pool_size = (3,3), strides = 2\n",
        "  X = MaxPooling2D(pool_size = (3,3), strides = 2)(X)\n",
        "\n",
        "  # convolutional layer: filters = 64, strides = 1\n",
        "  X = Conv2D(filters = 64, kernel_size = (1,1), strides = 1, padding = 'same', activation = 'relu')(X)\n",
        "\n",
        "  # convolutional layer: filters = 192, kernel_size = (3,3)\n",
        "  X = Conv2D(filters = 192, kernel_size = (3,3), padding = 'same', activation = 'relu')(X)\n",
        "\n",
        "  # max-pooling layer: pool_size = (3,3), strides = 2\n",
        "  X = MaxPooling2D(pool_size= (3,3), strides = 2)(X)\n",
        "\n",
        "  # 1st Inception block\n",
        "  X = Inception_block(X, f1 = 64, f2_conv1 = 96, f2_conv3 = 128, f3_conv1 = 16, f3_conv5 = 32, f4 = 32)\n",
        "\n",
        "  # 2nd Inception block\n",
        "  X = Inception_block(X, f1 = 128, f2_conv1 = 128, f2_conv3 = 192, f3_conv1 = 32, f3_conv5 = 96, f4 = 64)\n",
        "\n",
        "  # max-pooling layer: pool_size = (3,3), strides = 2\n",
        "  X = MaxPooling2D(pool_size= (3,3), strides = 2)(X)\n",
        "\n",
        "  # 3rd Inception block\n",
        "  X = Inception_block(X, f1 = 192, f2_conv1 = 96, f2_conv3 = 208, f3_conv1 = 16, f3_conv5 = 48, f4 = 64)\n",
        "\n",
        "  # Extra network 1:\n",
        "  X1 = AveragePooling2D(pool_size = (5,5), strides = 3)(X)\n",
        "  X1 = Conv2D(filters = 128, kernel_size = (1,1), padding = 'same', activation = 'relu')(X1)\n",
        "  X1 = Flatten()(X1)\n",
        "  X1 = Dense(512, activation = 'relu')(X1)\n",
        "  \n",
        "  # 4th Inception block\n",
        "  X = Inception_block(X, f1 = 160, f2_conv1 = 112, f2_conv3 = 224, f3_conv1 = 24, f3_conv5 = 64, f4 = 64)\n",
        "\n",
        "  # 5th Inception block\n",
        "  X = Inception_block(X, f1 = 128, f2_conv1 = 128, f2_conv3 = 256, f3_conv1 = 24, f3_conv5 = 64, f4 = 64)\n",
        "\n",
        "  # 6th Inception block\n",
        "  X = Inception_block(X, f1 = 112, f2_conv1 = 144, f2_conv3 = 288, f3_conv1 = 32, f3_conv5 = 64, f4 = 64)\n",
        "\n",
        "  # Extra network 2:\n",
        "  X2 = AveragePooling2D(pool_size = (5,5), strides = 3)(X)\n",
        "  X2 = Conv2D(filters = 128, kernel_size = (1,1), padding = 'same', activation = 'relu')(X2)\n",
        "  X2 = Flatten()(X2)\n",
        "  X2 = Dense(512, activation = 'relu')(X2)  \n",
        "  \n",
        "  # 7th Inception block\n",
        "  X = Inception_block(X, f1 = 256, f2_conv1 = 160, f2_conv3 = 320, f3_conv1 = 32, \n",
        "                      f3_conv5 = 128, f4 = 128)\n",
        "\n",
        "  # max-pooling layer: pool_size = (3,3), strides = 2\n",
        "  X = MaxPooling2D(pool_size = (3,3), strides = 2)(X)\n",
        "\n",
        "  # 8th Inception block\n",
        "  X = Inception_block(X, f1 = 256, f2_conv1 = 160, f2_conv3 = 320, f3_conv1 = 32, f3_conv5 = 128, f4 = 128)\n",
        "\n",
        "  # 9th Inception block\n",
        "  X = Inception_block(X, f1 = 384, f2_conv1 = 192, f2_conv3 = 384, f3_conv1 = 48, f3_conv5 = 128, f4 = 128)\n",
        "\n",
        "  # Global Average pooling layer \n",
        "  X = GlobalAveragePooling2D(name = 'GAPL')(X)\n",
        "\n",
        "  # Dropoutlayer \n",
        "  X = Dropout(0.4)(X)\n",
        "\n",
        "  # output layer \n",
        "  X = Dense(512, activation = 'relu')(X)\n",
        "  \n",
        "  # model\n",
        "  model = Model(input_layer, [X, X1, X2], name = 'GoogLeNet')\n",
        "\n",
        "  return model"
      ],
      "execution_count": null,
      "outputs": []
    },
    {
      "cell_type": "code",
      "metadata": {
        "id": "YuJ-errf3pgU"
      },
      "source": [
        "GNet_model = GoogLeNet()\n",
        "for layer in vgg16_model.layers:\n",
        "    layer._name = layer.name + str('_G')"
      ],
      "execution_count": null,
      "outputs": []
    },
    {
      "cell_type": "code",
      "metadata": {
        "colab": {
          "base_uri": "https://localhost:8080/"
        },
        "id": "EYKy7f4b3pNa",
        "outputId": "1109817a-3fe3-41e9-d0e3-7875bf0a473a"
      },
      "source": [
        "GNet_model.summary()"
      ],
      "execution_count": null,
      "outputs": [
        {
          "output_type": "stream",
          "name": "stdout",
          "text": [
            "Model: \"GoogLeNet\"\n",
            "__________________________________________________________________________________________________\n",
            "Layer (type)                    Output Shape         Param #     Connected to                     \n",
            "==================================================================================================\n",
            "input_4 (InputLayer)            [(None, 150, 150, 3) 0                                            \n",
            "__________________________________________________________________________________________________\n",
            "conv2d (Conv2D)                 (None, 72, 72, 64)   9472        input_4[0][0]                    \n",
            "__________________________________________________________________________________________________\n",
            "max_pooling2d (MaxPooling2D)    (None, 35, 35, 64)   0           conv2d[0][0]                     \n",
            "__________________________________________________________________________________________________\n",
            "conv2d_1 (Conv2D)               (None, 35, 35, 64)   4160        max_pooling2d[0][0]              \n",
            "__________________________________________________________________________________________________\n",
            "conv2d_2 (Conv2D)               (None, 35, 35, 192)  110784      conv2d_1[0][0]                   \n",
            "__________________________________________________________________________________________________\n",
            "max_pooling2d_1 (MaxPooling2D)  (None, 17, 17, 192)  0           conv2d_2[0][0]                   \n",
            "__________________________________________________________________________________________________\n",
            "conv2d_4 (Conv2D)               (None, 17, 17, 96)   18528       max_pooling2d_1[0][0]            \n",
            "__________________________________________________________________________________________________\n",
            "conv2d_6 (Conv2D)               (None, 17, 17, 16)   3088        max_pooling2d_1[0][0]            \n",
            "__________________________________________________________________________________________________\n",
            "max_pooling2d_2 (MaxPooling2D)  (None, 17, 17, 192)  0           max_pooling2d_1[0][0]            \n",
            "__________________________________________________________________________________________________\n",
            "conv2d_3 (Conv2D)               (None, 17, 17, 64)   12352       max_pooling2d_1[0][0]            \n",
            "__________________________________________________________________________________________________\n",
            "conv2d_5 (Conv2D)               (None, 17, 17, 128)  110720      conv2d_4[0][0]                   \n",
            "__________________________________________________________________________________________________\n",
            "conv2d_7 (Conv2D)               (None, 17, 17, 32)   12832       conv2d_6[0][0]                   \n",
            "__________________________________________________________________________________________________\n",
            "conv2d_8 (Conv2D)               (None, 17, 17, 32)   6176        max_pooling2d_2[0][0]            \n",
            "__________________________________________________________________________________________________\n",
            "concatenate (Concatenate)       (None, 17, 17, 256)  0           conv2d_3[0][0]                   \n",
            "                                                                 conv2d_5[0][0]                   \n",
            "                                                                 conv2d_7[0][0]                   \n",
            "                                                                 conv2d_8[0][0]                   \n",
            "__________________________________________________________________________________________________\n",
            "conv2d_10 (Conv2D)              (None, 17, 17, 128)  32896       concatenate[0][0]                \n",
            "__________________________________________________________________________________________________\n",
            "conv2d_12 (Conv2D)              (None, 17, 17, 32)   8224        concatenate[0][0]                \n",
            "__________________________________________________________________________________________________\n",
            "max_pooling2d_3 (MaxPooling2D)  (None, 17, 17, 256)  0           concatenate[0][0]                \n",
            "__________________________________________________________________________________________________\n",
            "conv2d_9 (Conv2D)               (None, 17, 17, 128)  32896       concatenate[0][0]                \n",
            "__________________________________________________________________________________________________\n",
            "conv2d_11 (Conv2D)              (None, 17, 17, 192)  221376      conv2d_10[0][0]                  \n",
            "__________________________________________________________________________________________________\n",
            "conv2d_13 (Conv2D)              (None, 17, 17, 96)   76896       conv2d_12[0][0]                  \n",
            "__________________________________________________________________________________________________\n",
            "conv2d_14 (Conv2D)              (None, 17, 17, 64)   16448       max_pooling2d_3[0][0]            \n",
            "__________________________________________________________________________________________________\n",
            "concatenate_1 (Concatenate)     (None, 17, 17, 480)  0           conv2d_9[0][0]                   \n",
            "                                                                 conv2d_11[0][0]                  \n",
            "                                                                 conv2d_13[0][0]                  \n",
            "                                                                 conv2d_14[0][0]                  \n",
            "__________________________________________________________________________________________________\n",
            "max_pooling2d_4 (MaxPooling2D)  (None, 8, 8, 480)    0           concatenate_1[0][0]              \n",
            "__________________________________________________________________________________________________\n",
            "conv2d_16 (Conv2D)              (None, 8, 8, 96)     46176       max_pooling2d_4[0][0]            \n",
            "__________________________________________________________________________________________________\n",
            "conv2d_18 (Conv2D)              (None, 8, 8, 16)     7696        max_pooling2d_4[0][0]            \n",
            "__________________________________________________________________________________________________\n",
            "max_pooling2d_5 (MaxPooling2D)  (None, 8, 8, 480)    0           max_pooling2d_4[0][0]            \n",
            "__________________________________________________________________________________________________\n",
            "conv2d_15 (Conv2D)              (None, 8, 8, 192)    92352       max_pooling2d_4[0][0]            \n",
            "__________________________________________________________________________________________________\n",
            "conv2d_17 (Conv2D)              (None, 8, 8, 208)    179920      conv2d_16[0][0]                  \n",
            "__________________________________________________________________________________________________\n",
            "conv2d_19 (Conv2D)              (None, 8, 8, 48)     19248       conv2d_18[0][0]                  \n",
            "__________________________________________________________________________________________________\n",
            "conv2d_20 (Conv2D)              (None, 8, 8, 64)     30784       max_pooling2d_5[0][0]            \n",
            "__________________________________________________________________________________________________\n",
            "concatenate_2 (Concatenate)     (None, 8, 8, 512)    0           conv2d_15[0][0]                  \n",
            "                                                                 conv2d_17[0][0]                  \n",
            "                                                                 conv2d_19[0][0]                  \n",
            "                                                                 conv2d_20[0][0]                  \n",
            "__________________________________________________________________________________________________\n",
            "conv2d_23 (Conv2D)              (None, 8, 8, 112)    57456       concatenate_2[0][0]              \n",
            "__________________________________________________________________________________________________\n",
            "conv2d_25 (Conv2D)              (None, 8, 8, 24)     12312       concatenate_2[0][0]              \n",
            "__________________________________________________________________________________________________\n",
            "max_pooling2d_6 (MaxPooling2D)  (None, 8, 8, 512)    0           concatenate_2[0][0]              \n",
            "__________________________________________________________________________________________________\n",
            "conv2d_22 (Conv2D)              (None, 8, 8, 160)    82080       concatenate_2[0][0]              \n",
            "__________________________________________________________________________________________________\n",
            "conv2d_24 (Conv2D)              (None, 8, 8, 224)    226016      conv2d_23[0][0]                  \n",
            "__________________________________________________________________________________________________\n",
            "conv2d_26 (Conv2D)              (None, 8, 8, 64)     38464       conv2d_25[0][0]                  \n",
            "__________________________________________________________________________________________________\n",
            "conv2d_27 (Conv2D)              (None, 8, 8, 64)     32832       max_pooling2d_6[0][0]            \n",
            "__________________________________________________________________________________________________\n",
            "concatenate_3 (Concatenate)     (None, 8, 8, 512)    0           conv2d_22[0][0]                  \n",
            "                                                                 conv2d_24[0][0]                  \n",
            "                                                                 conv2d_26[0][0]                  \n",
            "                                                                 conv2d_27[0][0]                  \n",
            "__________________________________________________________________________________________________\n",
            "conv2d_29 (Conv2D)              (None, 8, 8, 128)    65664       concatenate_3[0][0]              \n",
            "__________________________________________________________________________________________________\n",
            "conv2d_31 (Conv2D)              (None, 8, 8, 24)     12312       concatenate_3[0][0]              \n",
            "__________________________________________________________________________________________________\n",
            "max_pooling2d_7 (MaxPooling2D)  (None, 8, 8, 512)    0           concatenate_3[0][0]              \n",
            "__________________________________________________________________________________________________\n",
            "conv2d_28 (Conv2D)              (None, 8, 8, 128)    65664       concatenate_3[0][0]              \n",
            "__________________________________________________________________________________________________\n",
            "conv2d_30 (Conv2D)              (None, 8, 8, 256)    295168      conv2d_29[0][0]                  \n",
            "__________________________________________________________________________________________________\n",
            "conv2d_32 (Conv2D)              (None, 8, 8, 64)     38464       conv2d_31[0][0]                  \n",
            "__________________________________________________________________________________________________\n",
            "conv2d_33 (Conv2D)              (None, 8, 8, 64)     32832       max_pooling2d_7[0][0]            \n",
            "__________________________________________________________________________________________________\n",
            "concatenate_4 (Concatenate)     (None, 8, 8, 512)    0           conv2d_28[0][0]                  \n",
            "                                                                 conv2d_30[0][0]                  \n",
            "                                                                 conv2d_32[0][0]                  \n",
            "                                                                 conv2d_33[0][0]                  \n",
            "__________________________________________________________________________________________________\n",
            "conv2d_35 (Conv2D)              (None, 8, 8, 144)    73872       concatenate_4[0][0]              \n",
            "__________________________________________________________________________________________________\n",
            "conv2d_37 (Conv2D)              (None, 8, 8, 32)     16416       concatenate_4[0][0]              \n",
            "__________________________________________________________________________________________________\n",
            "max_pooling2d_8 (MaxPooling2D)  (None, 8, 8, 512)    0           concatenate_4[0][0]              \n",
            "__________________________________________________________________________________________________\n",
            "conv2d_34 (Conv2D)              (None, 8, 8, 112)    57456       concatenate_4[0][0]              \n",
            "__________________________________________________________________________________________________\n",
            "conv2d_36 (Conv2D)              (None, 8, 8, 288)    373536      conv2d_35[0][0]                  \n",
            "__________________________________________________________________________________________________\n",
            "conv2d_38 (Conv2D)              (None, 8, 8, 64)     51264       conv2d_37[0][0]                  \n",
            "__________________________________________________________________________________________________\n",
            "conv2d_39 (Conv2D)              (None, 8, 8, 64)     32832       max_pooling2d_8[0][0]            \n",
            "__________________________________________________________________________________________________\n",
            "concatenate_5 (Concatenate)     (None, 8, 8, 528)    0           conv2d_34[0][0]                  \n",
            "                                                                 conv2d_36[0][0]                  \n",
            "                                                                 conv2d_38[0][0]                  \n",
            "                                                                 conv2d_39[0][0]                  \n",
            "__________________________________________________________________________________________________\n",
            "conv2d_42 (Conv2D)              (None, 8, 8, 160)    84640       concatenate_5[0][0]              \n",
            "__________________________________________________________________________________________________\n",
            "conv2d_44 (Conv2D)              (None, 8, 8, 32)     16928       concatenate_5[0][0]              \n",
            "__________________________________________________________________________________________________\n",
            "max_pooling2d_9 (MaxPooling2D)  (None, 8, 8, 528)    0           concatenate_5[0][0]              \n",
            "__________________________________________________________________________________________________\n",
            "conv2d_41 (Conv2D)              (None, 8, 8, 256)    135424      concatenate_5[0][0]              \n",
            "__________________________________________________________________________________________________\n",
            "conv2d_43 (Conv2D)              (None, 8, 8, 320)    461120      conv2d_42[0][0]                  \n",
            "__________________________________________________________________________________________________\n",
            "conv2d_45 (Conv2D)              (None, 8, 8, 128)    102528      conv2d_44[0][0]                  \n",
            "__________________________________________________________________________________________________\n",
            "conv2d_46 (Conv2D)              (None, 8, 8, 128)    67712       max_pooling2d_9[0][0]            \n",
            "__________________________________________________________________________________________________\n",
            "concatenate_6 (Concatenate)     (None, 8, 8, 832)    0           conv2d_41[0][0]                  \n",
            "                                                                 conv2d_43[0][0]                  \n",
            "                                                                 conv2d_45[0][0]                  \n",
            "                                                                 conv2d_46[0][0]                  \n",
            "__________________________________________________________________________________________________\n",
            "max_pooling2d_10 (MaxPooling2D) (None, 3, 3, 832)    0           concatenate_6[0][0]              \n",
            "__________________________________________________________________________________________________\n",
            "conv2d_48 (Conv2D)              (None, 3, 3, 160)    133280      max_pooling2d_10[0][0]           \n",
            "__________________________________________________________________________________________________\n",
            "conv2d_50 (Conv2D)              (None, 3, 3, 32)     26656       max_pooling2d_10[0][0]           \n",
            "__________________________________________________________________________________________________\n",
            "max_pooling2d_11 (MaxPooling2D) (None, 3, 3, 832)    0           max_pooling2d_10[0][0]           \n",
            "__________________________________________________________________________________________________\n",
            "conv2d_47 (Conv2D)              (None, 3, 3, 256)    213248      max_pooling2d_10[0][0]           \n",
            "__________________________________________________________________________________________________\n",
            "conv2d_49 (Conv2D)              (None, 3, 3, 320)    461120      conv2d_48[0][0]                  \n",
            "__________________________________________________________________________________________________\n",
            "conv2d_51 (Conv2D)              (None, 3, 3, 128)    102528      conv2d_50[0][0]                  \n",
            "__________________________________________________________________________________________________\n",
            "conv2d_52 (Conv2D)              (None, 3, 3, 128)    106624      max_pooling2d_11[0][0]           \n",
            "__________________________________________________________________________________________________\n",
            "concatenate_7 (Concatenate)     (None, 3, 3, 832)    0           conv2d_47[0][0]                  \n",
            "                                                                 conv2d_49[0][0]                  \n",
            "                                                                 conv2d_51[0][0]                  \n",
            "                                                                 conv2d_52[0][0]                  \n",
            "__________________________________________________________________________________________________\n",
            "conv2d_54 (Conv2D)              (None, 3, 3, 192)    159936      concatenate_7[0][0]              \n",
            "__________________________________________________________________________________________________\n",
            "conv2d_56 (Conv2D)              (None, 3, 3, 48)     39984       concatenate_7[0][0]              \n",
            "__________________________________________________________________________________________________\n",
            "max_pooling2d_12 (MaxPooling2D) (None, 3, 3, 832)    0           concatenate_7[0][0]              \n",
            "__________________________________________________________________________________________________\n",
            "conv2d_53 (Conv2D)              (None, 3, 3, 384)    319872      concatenate_7[0][0]              \n",
            "__________________________________________________________________________________________________\n",
            "conv2d_55 (Conv2D)              (None, 3, 3, 384)    663936      conv2d_54[0][0]                  \n",
            "__________________________________________________________________________________________________\n",
            "conv2d_57 (Conv2D)              (None, 3, 3, 128)    153728      conv2d_56[0][0]                  \n",
            "__________________________________________________________________________________________________\n",
            "conv2d_58 (Conv2D)              (None, 3, 3, 128)    106624      max_pooling2d_12[0][0]           \n",
            "__________________________________________________________________________________________________\n",
            "concatenate_8 (Concatenate)     (None, 3, 3, 1024)   0           conv2d_53[0][0]                  \n",
            "                                                                 conv2d_55[0][0]                  \n",
            "                                                                 conv2d_57[0][0]                  \n",
            "                                                                 conv2d_58[0][0]                  \n",
            "__________________________________________________________________________________________________\n",
            "average_pooling2d (AveragePooli (None, 2, 2, 512)    0           concatenate_2[0][0]              \n",
            "__________________________________________________________________________________________________\n",
            "average_pooling2d_1 (AveragePoo (None, 2, 2, 528)    0           concatenate_5[0][0]              \n",
            "__________________________________________________________________________________________________\n",
            "GAPL (GlobalAveragePooling2D)   (None, 1024)         0           concatenate_8[0][0]              \n",
            "__________________________________________________________________________________________________\n",
            "conv2d_21 (Conv2D)              (None, 2, 2, 128)    65664       average_pooling2d[0][0]          \n",
            "__________________________________________________________________________________________________\n",
            "conv2d_40 (Conv2D)              (None, 2, 2, 128)    67712       average_pooling2d_1[0][0]        \n",
            "__________________________________________________________________________________________________\n",
            "dropout (Dropout)               (None, 1024)         0           GAPL[0][0]                       \n",
            "__________________________________________________________________________________________________\n",
            "flatten_2 (Flatten)             (None, 512)          0           conv2d_21[0][0]                  \n",
            "__________________________________________________________________________________________________\n",
            "flatten_3 (Flatten)             (None, 512)          0           conv2d_40[0][0]                  \n",
            "__________________________________________________________________________________________________\n",
            "dense_4 (Dense)                 (None, 512)          524800      dropout[0][0]                    \n",
            "__________________________________________________________________________________________________\n",
            "dense_2 (Dense)                 (None, 512)          262656      flatten_2[0][0]                  \n",
            "__________________________________________________________________________________________________\n",
            "dense_3 (Dense)                 (None, 512)          262656      flatten_3[0][0]                  \n",
            "==================================================================================================\n",
            "Total params: 7,157,040\n",
            "Trainable params: 7,157,040\n",
            "Non-trainable params: 0\n",
            "__________________________________________________________________________________________________\n"
          ]
        }
      ]
    },
    {
      "cell_type": "markdown",
      "metadata": {
        "id": "vc7LDkp084RH"
      },
      "source": [
        "These were all the individual models, now we have to merge them to create a connected model.\n",
        "\n",
        "Below are all the outputs of the above models and their shapes, notice that they are all of the same shape. This is intentionally done for the next step.\n",
        "\n",
        "One of the main difference between Functional and Sequential API is that Sequential works with single input and single output where as Functional API works with single-input and single-output or single-input and multiple-output, or multiple-inputs and multiple-outputs. So using Functional API, you can add two layers of multiple-inputs through `keras.layers.Add()."
      ]
    },
    {
      "cell_type": "code",
      "metadata": {
        "colab": {
          "base_uri": "https://localhost:8080/"
        },
        "id": "-Em0a0aiiDn0",
        "outputId": "ad9ef36b-1f09-45a8-ee94-d12be3ec1164"
      },
      "source": [
        "print(vgg16_model.output)\n",
        "print(vgg19_model.output)\n",
        "print(custom_vgg_model.output)\n",
        "print(GNet_model.output)"
      ],
      "execution_count": null,
      "outputs": [
        {
          "output_type": "stream",
          "name": "stdout",
          "text": [
            "KerasTensor(type_spec=TensorSpec(shape=(None, 512), dtype=tf.float32, name=None), name='dense/Relu:0', description=\"created by layer 'dense_C_G'\")\n",
            "KerasTensor(type_spec=TensorSpec(shape=(None, 512), dtype=tf.float32, name=None), name='dense_1/Relu:0', description=\"created by layer 'dense_1'\")\n",
            "KerasTensor(type_spec=TensorSpec(shape=(None, 512), dtype=tf.float32, name=None), name='fc6/Relu:0', description=\"created by layer 'fc6'\")\n",
            "[<KerasTensor: shape=(None, 512) dtype=float32 (created by layer 'dense_4')>, <KerasTensor: shape=(None, 512) dtype=float32 (created by layer 'dense_2')>, <KerasTensor: shape=(None, 512) dtype=float32 (created by layer 'dense_3')>]\n"
          ]
        }
      ]
    },
    {
      "cell_type": "markdown",
      "metadata": {
        "id": "EQRgvdTm81Z5"
      },
      "source": [
        "\n",
        "<img src=\"https://i.stack.imgur.com/FbaQG.png\" width=\"700\"/>\n",
        "\n",
        "We will now use  the Add function from the API, this function adds a list of inputs. It takes as input a list of tensors, all of the same shape, and returns a single tensor (also of the same shape).\n",
        "\n",
        "Using this we can merge the above 4 models into one."
      ]
    },
    {
      "cell_type": "code",
      "metadata": {
        "id": "N6RFsdVecsbx"
      },
      "source": [
        "from keras.layers import *\n",
        "\n",
        "mergedOut = Add()([custom_vgg_model.output,vgg16_model.output,vgg19_model.output,GNet_model.output[2]])\n",
        "\n",
        "mergedOut = Dense(512, activation='relu')(mergedOut)\n",
        "mergedOut = Dropout(.5)(mergedOut)\n",
        "mergedOut = Dense(256, activation='relu')(mergedOut)\n",
        "mergedOut = Dropout(.35)(mergedOut)\n",
        "\n",
        "# output layer\n",
        "mergedOut = Dense(50, activation='softmax')(mergedOut)\n",
        "Hybrid_Model = Model([custom_vgg_model.input,vgg16_model.input,vgg19_model.input,GNet_model.input], mergedOut)"
      ],
      "execution_count": null,
      "outputs": []
    },
    {
      "cell_type": "markdown",
      "metadata": {
        "id": "jLGz5NV0z0oA"
      },
      "source": [
        "###The summary of the model is given below as generated by keras."
      ]
    },
    {
      "cell_type": "code",
      "metadata": {
        "colab": {
          "base_uri": "https://localhost:8080/"
        },
        "id": "wVgxbXYXqPz7",
        "outputId": "5a7bdc06-ad40-413f-8248-348b4845a9ec"
      },
      "source": [
        "Hybrid_Model.summary()"
      ],
      "execution_count": null,
      "outputs": [
        {
          "output_type": "stream",
          "name": "stdout",
          "text": [
            "Model: \"model_3\"\n",
            "__________________________________________________________________________________________________\n",
            "Layer (type)                    Output Shape         Param #     Connected to                     \n",
            "==================================================================================================\n",
            "input_4 (InputLayer)            [(None, 150, 150, 3) 0                                            \n",
            "__________________________________________________________________________________________________\n",
            "conv2d (Conv2D)                 (None, 72, 72, 64)   9472        input_4[0][0]                    \n",
            "__________________________________________________________________________________________________\n",
            "max_pooling2d (MaxPooling2D)    (None, 35, 35, 64)   0           conv2d[0][0]                     \n",
            "__________________________________________________________________________________________________\n",
            "conv2d_1 (Conv2D)               (None, 35, 35, 64)   4160        max_pooling2d[0][0]              \n",
            "__________________________________________________________________________________________________\n",
            "conv2d_2 (Conv2D)               (None, 35, 35, 192)  110784      conv2d_1[0][0]                   \n",
            "__________________________________________________________________________________________________\n",
            "input_2 (InputLayer)            [(None, 150, 150, 3) 0                                            \n",
            "__________________________________________________________________________________________________\n",
            "max_pooling2d_1 (MaxPooling2D)  (None, 17, 17, 192)  0           conv2d_2[0][0]                   \n",
            "__________________________________________________________________________________________________\n",
            "block1_conv1 (Conv2D)           (None, 150, 150, 64) 1792        input_2[0][0]                    \n",
            "__________________________________________________________________________________________________\n",
            "conv2d_4 (Conv2D)               (None, 17, 17, 96)   18528       max_pooling2d_1[0][0]            \n",
            "__________________________________________________________________________________________________\n",
            "conv2d_6 (Conv2D)               (None, 17, 17, 16)   3088        max_pooling2d_1[0][0]            \n",
            "__________________________________________________________________________________________________\n",
            "max_pooling2d_2 (MaxPooling2D)  (None, 17, 17, 192)  0           max_pooling2d_1[0][0]            \n",
            "__________________________________________________________________________________________________\n",
            "block1_conv2 (Conv2D)           (None, 150, 150, 64) 36928       block1_conv1[0][0]               \n",
            "__________________________________________________________________________________________________\n",
            "conv2d_3 (Conv2D)               (None, 17, 17, 64)   12352       max_pooling2d_1[0][0]            \n",
            "__________________________________________________________________________________________________\n",
            "conv2d_5 (Conv2D)               (None, 17, 17, 128)  110720      conv2d_4[0][0]                   \n",
            "__________________________________________________________________________________________________\n",
            "conv2d_7 (Conv2D)               (None, 17, 17, 32)   12832       conv2d_6[0][0]                   \n",
            "__________________________________________________________________________________________________\n",
            "conv2d_8 (Conv2D)               (None, 17, 17, 32)   6176        max_pooling2d_2[0][0]            \n",
            "__________________________________________________________________________________________________\n",
            "input_3 (InputLayer)            [(None, 150, 150, 3) 0                                            \n",
            "__________________________________________________________________________________________________\n",
            "input_1_C_G (InputLayer)        [(None, 150, 150, 3) 0                                            \n",
            "__________________________________________________________________________________________________\n",
            "block1_pool (MaxPooling2D)      (None, 75, 75, 64)   0           block1_conv2[0][0]               \n",
            "__________________________________________________________________________________________________\n",
            "concatenate (Concatenate)       (None, 17, 17, 256)  0           conv2d_3[0][0]                   \n",
            "                                                                 conv2d_5[0][0]                   \n",
            "                                                                 conv2d_7[0][0]                   \n",
            "                                                                 conv2d_8[0][0]                   \n",
            "__________________________________________________________________________________________________\n",
            "conv1_1 (Conv2D)                (None, 150, 150, 64) 1792        input_3[0][0]                    \n",
            "__________________________________________________________________________________________________\n",
            "block1_conv1_C_G (Conv2D)       (None, 150, 150, 64) 1792        input_1_C_G[0][0]                \n",
            "__________________________________________________________________________________________________\n",
            "block2_conv1 (Conv2D)           (None, 75, 75, 128)  73856       block1_pool[0][0]                \n",
            "__________________________________________________________________________________________________\n",
            "conv2d_10 (Conv2D)              (None, 17, 17, 128)  32896       concatenate[0][0]                \n",
            "__________________________________________________________________________________________________\n",
            "conv2d_12 (Conv2D)              (None, 17, 17, 32)   8224        concatenate[0][0]                \n",
            "__________________________________________________________________________________________________\n",
            "max_pooling2d_3 (MaxPooling2D)  (None, 17, 17, 256)  0           concatenate[0][0]                \n",
            "__________________________________________________________________________________________________\n",
            "conv1_2 (Conv2D)                (None, 150, 150, 64) 36928       conv1_1[0][0]                    \n",
            "__________________________________________________________________________________________________\n",
            "block1_conv2_C_G (Conv2D)       (None, 150, 150, 64) 36928       block1_conv1_C_G[0][0]           \n",
            "__________________________________________________________________________________________________\n",
            "block2_conv2 (Conv2D)           (None, 75, 75, 128)  147584      block2_conv1[0][0]               \n",
            "__________________________________________________________________________________________________\n",
            "conv2d_9 (Conv2D)               (None, 17, 17, 128)  32896       concatenate[0][0]                \n",
            "__________________________________________________________________________________________________\n",
            "conv2d_11 (Conv2D)              (None, 17, 17, 192)  221376      conv2d_10[0][0]                  \n",
            "__________________________________________________________________________________________________\n",
            "conv2d_13 (Conv2D)              (None, 17, 17, 96)   76896       conv2d_12[0][0]                  \n",
            "__________________________________________________________________________________________________\n",
            "conv2d_14 (Conv2D)              (None, 17, 17, 64)   16448       max_pooling2d_3[0][0]            \n",
            "__________________________________________________________________________________________________\n",
            "pool1 (MaxPooling2D)            (None, 75, 75, 64)   0           conv1_2[0][0]                    \n",
            "__________________________________________________________________________________________________\n",
            "block1_pool_C_G (MaxPooling2D)  (None, 75, 75, 64)   0           block1_conv2_C_G[0][0]           \n",
            "__________________________________________________________________________________________________\n",
            "block2_pool (MaxPooling2D)      (None, 37, 37, 128)  0           block2_conv2[0][0]               \n",
            "__________________________________________________________________________________________________\n",
            "concatenate_1 (Concatenate)     (None, 17, 17, 480)  0           conv2d_9[0][0]                   \n",
            "                                                                 conv2d_11[0][0]                  \n",
            "                                                                 conv2d_13[0][0]                  \n",
            "                                                                 conv2d_14[0][0]                  \n",
            "__________________________________________________________________________________________________\n",
            "conv2_1 (Conv2D)                (None, 75, 75, 128)  73856       pool1[0][0]                      \n",
            "__________________________________________________________________________________________________\n",
            "block2_conv1_C_G (Conv2D)       (None, 75, 75, 128)  73856       block1_pool_C_G[0][0]            \n",
            "__________________________________________________________________________________________________\n",
            "block3_conv1 (Conv2D)           (None, 37, 37, 256)  295168      block2_pool[0][0]                \n",
            "__________________________________________________________________________________________________\n",
            "max_pooling2d_4 (MaxPooling2D)  (None, 8, 8, 480)    0           concatenate_1[0][0]              \n",
            "__________________________________________________________________________________________________\n",
            "conv2_2 (Conv2D)                (None, 75, 75, 128)  147584      conv2_1[0][0]                    \n",
            "__________________________________________________________________________________________________\n",
            "block2_conv2_C_G (Conv2D)       (None, 75, 75, 128)  147584      block2_conv1_C_G[0][0]           \n",
            "__________________________________________________________________________________________________\n",
            "block3_conv2 (Conv2D)           (None, 37, 37, 256)  590080      block3_conv1[0][0]               \n",
            "__________________________________________________________________________________________________\n",
            "conv2d_16 (Conv2D)              (None, 8, 8, 96)     46176       max_pooling2d_4[0][0]            \n",
            "__________________________________________________________________________________________________\n",
            "conv2d_18 (Conv2D)              (None, 8, 8, 16)     7696        max_pooling2d_4[0][0]            \n",
            "__________________________________________________________________________________________________\n",
            "max_pooling2d_5 (MaxPooling2D)  (None, 8, 8, 480)    0           max_pooling2d_4[0][0]            \n",
            "__________________________________________________________________________________________________\n",
            "pool2 (MaxPooling2D)            (None, 37, 37, 128)  0           conv2_2[0][0]                    \n",
            "__________________________________________________________________________________________________\n",
            "block2_pool_C_G (MaxPooling2D)  (None, 37, 37, 128)  0           block2_conv2_C_G[0][0]           \n",
            "__________________________________________________________________________________________________\n",
            "block3_conv3 (Conv2D)           (None, 37, 37, 256)  590080      block3_conv2[0][0]               \n",
            "__________________________________________________________________________________________________\n",
            "conv2d_15 (Conv2D)              (None, 8, 8, 192)    92352       max_pooling2d_4[0][0]            \n",
            "__________________________________________________________________________________________________\n",
            "conv2d_17 (Conv2D)              (None, 8, 8, 208)    179920      conv2d_16[0][0]                  \n",
            "__________________________________________________________________________________________________\n",
            "conv2d_19 (Conv2D)              (None, 8, 8, 48)     19248       conv2d_18[0][0]                  \n",
            "__________________________________________________________________________________________________\n",
            "conv2d_20 (Conv2D)              (None, 8, 8, 64)     30784       max_pooling2d_5[0][0]            \n",
            "__________________________________________________________________________________________________\n",
            "conv3_1 (Conv2D)                (None, 37, 37, 256)  295168      pool2[0][0]                      \n",
            "__________________________________________________________________________________________________\n",
            "block3_conv1_C_G (Conv2D)       (None, 37, 37, 256)  295168      block2_pool_C_G[0][0]            \n",
            "__________________________________________________________________________________________________\n",
            "block3_conv4 (Conv2D)           (None, 37, 37, 256)  590080      block3_conv3[0][0]               \n",
            "__________________________________________________________________________________________________\n",
            "concatenate_2 (Concatenate)     (None, 8, 8, 512)    0           conv2d_15[0][0]                  \n",
            "                                                                 conv2d_17[0][0]                  \n",
            "                                                                 conv2d_19[0][0]                  \n",
            "                                                                 conv2d_20[0][0]                  \n",
            "__________________________________________________________________________________________________\n",
            "conv3_2 (Conv2D)                (None, 37, 37, 256)  590080      conv3_1[0][0]                    \n",
            "__________________________________________________________________________________________________\n",
            "block3_conv2_C_G (Conv2D)       (None, 37, 37, 256)  590080      block3_conv1_C_G[0][0]           \n",
            "__________________________________________________________________________________________________\n",
            "block3_pool (MaxPooling2D)      (None, 18, 18, 256)  0           block3_conv4[0][0]               \n",
            "__________________________________________________________________________________________________\n",
            "conv2d_23 (Conv2D)              (None, 8, 8, 112)    57456       concatenate_2[0][0]              \n",
            "__________________________________________________________________________________________________\n",
            "conv2d_25 (Conv2D)              (None, 8, 8, 24)     12312       concatenate_2[0][0]              \n",
            "__________________________________________________________________________________________________\n",
            "max_pooling2d_6 (MaxPooling2D)  (None, 8, 8, 512)    0           concatenate_2[0][0]              \n",
            "__________________________________________________________________________________________________\n",
            "conv3_3 (Conv2D)                (None, 37, 37, 256)  590080      conv3_2[0][0]                    \n",
            "__________________________________________________________________________________________________\n",
            "block3_conv3_C_G (Conv2D)       (None, 37, 37, 256)  590080      block3_conv2_C_G[0][0]           \n",
            "__________________________________________________________________________________________________\n",
            "block4_conv1 (Conv2D)           (None, 18, 18, 512)  1180160     block3_pool[0][0]                \n",
            "__________________________________________________________________________________________________\n",
            "conv2d_22 (Conv2D)              (None, 8, 8, 160)    82080       concatenate_2[0][0]              \n",
            "__________________________________________________________________________________________________\n",
            "conv2d_24 (Conv2D)              (None, 8, 8, 224)    226016      conv2d_23[0][0]                  \n",
            "__________________________________________________________________________________________________\n",
            "conv2d_26 (Conv2D)              (None, 8, 8, 64)     38464       conv2d_25[0][0]                  \n",
            "__________________________________________________________________________________________________\n",
            "conv2d_27 (Conv2D)              (None, 8, 8, 64)     32832       max_pooling2d_6[0][0]            \n",
            "__________________________________________________________________________________________________\n",
            "pool3 (MaxPooling2D)            (None, 18, 18, 256)  0           conv3_3[0][0]                    \n",
            "__________________________________________________________________________________________________\n",
            "block3_pool_C_G (MaxPooling2D)  (None, 18, 18, 256)  0           block3_conv3_C_G[0][0]           \n",
            "__________________________________________________________________________________________________\n",
            "block4_conv2 (Conv2D)           (None, 18, 18, 512)  2359808     block4_conv1[0][0]               \n",
            "__________________________________________________________________________________________________\n",
            "concatenate_3 (Concatenate)     (None, 8, 8, 512)    0           conv2d_22[0][0]                  \n",
            "                                                                 conv2d_24[0][0]                  \n",
            "                                                                 conv2d_26[0][0]                  \n",
            "                                                                 conv2d_27[0][0]                  \n",
            "__________________________________________________________________________________________________\n",
            "conv4_1 (Conv2D)                (None, 18, 18, 512)  1180160     pool3[0][0]                      \n",
            "__________________________________________________________________________________________________\n",
            "block4_conv1_C_G (Conv2D)       (None, 18, 18, 512)  1180160     block3_pool_C_G[0][0]            \n",
            "__________________________________________________________________________________________________\n",
            "block4_conv3 (Conv2D)           (None, 18, 18, 512)  2359808     block4_conv2[0][0]               \n",
            "__________________________________________________________________________________________________\n",
            "conv2d_29 (Conv2D)              (None, 8, 8, 128)    65664       concatenate_3[0][0]              \n",
            "__________________________________________________________________________________________________\n",
            "conv2d_31 (Conv2D)              (None, 8, 8, 24)     12312       concatenate_3[0][0]              \n",
            "__________________________________________________________________________________________________\n",
            "max_pooling2d_7 (MaxPooling2D)  (None, 8, 8, 512)    0           concatenate_3[0][0]              \n",
            "__________________________________________________________________________________________________\n",
            "conv4_2 (Conv2D)                (None, 18, 18, 512)  2359808     conv4_1[0][0]                    \n",
            "__________________________________________________________________________________________________\n",
            "block4_conv2_C_G (Conv2D)       (None, 18, 18, 512)  2359808     block4_conv1_C_G[0][0]           \n",
            "__________________________________________________________________________________________________\n",
            "block4_conv4 (Conv2D)           (None, 18, 18, 512)  2359808     block4_conv3[0][0]               \n",
            "__________________________________________________________________________________________________\n",
            "conv2d_28 (Conv2D)              (None, 8, 8, 128)    65664       concatenate_3[0][0]              \n",
            "__________________________________________________________________________________________________\n",
            "conv2d_30 (Conv2D)              (None, 8, 8, 256)    295168      conv2d_29[0][0]                  \n",
            "__________________________________________________________________________________________________\n",
            "conv2d_32 (Conv2D)              (None, 8, 8, 64)     38464       conv2d_31[0][0]                  \n",
            "__________________________________________________________________________________________________\n",
            "conv2d_33 (Conv2D)              (None, 8, 8, 64)     32832       max_pooling2d_7[0][0]            \n",
            "__________________________________________________________________________________________________\n",
            "conv4_3 (Conv2D)                (None, 18, 18, 512)  2359808     conv4_2[0][0]                    \n",
            "__________________________________________________________________________________________________\n",
            "block4_conv3_C_G (Conv2D)       (None, 18, 18, 512)  2359808     block4_conv2_C_G[0][0]           \n",
            "__________________________________________________________________________________________________\n",
            "block4_pool (MaxPooling2D)      (None, 9, 9, 512)    0           block4_conv4[0][0]               \n",
            "__________________________________________________________________________________________________\n",
            "concatenate_4 (Concatenate)     (None, 8, 8, 512)    0           conv2d_28[0][0]                  \n",
            "                                                                 conv2d_30[0][0]                  \n",
            "                                                                 conv2d_32[0][0]                  \n",
            "                                                                 conv2d_33[0][0]                  \n",
            "__________________________________________________________________________________________________\n",
            "pool4 (MaxPooling2D)            (None, 9, 9, 512)    0           conv4_3[0][0]                    \n",
            "__________________________________________________________________________________________________\n",
            "block4_pool_C_G (MaxPooling2D)  (None, 9, 9, 512)    0           block4_conv3_C_G[0][0]           \n",
            "__________________________________________________________________________________________________\n",
            "block5_conv1 (Conv2D)           (None, 9, 9, 512)    2359808     block4_pool[0][0]                \n",
            "__________________________________________________________________________________________________\n",
            "conv2d_35 (Conv2D)              (None, 8, 8, 144)    73872       concatenate_4[0][0]              \n",
            "__________________________________________________________________________________________________\n",
            "conv2d_37 (Conv2D)              (None, 8, 8, 32)     16416       concatenate_4[0][0]              \n",
            "__________________________________________________________________________________________________\n",
            "max_pooling2d_8 (MaxPooling2D)  (None, 8, 8, 512)    0           concatenate_4[0][0]              \n",
            "__________________________________________________________________________________________________\n",
            "conv5_1 (Conv2D)                (None, 9, 9, 512)    2359808     pool4[0][0]                      \n",
            "__________________________________________________________________________________________________\n",
            "block5_conv1_C_G (Conv2D)       (None, 9, 9, 512)    2359808     block4_pool_C_G[0][0]            \n",
            "__________________________________________________________________________________________________\n",
            "block5_conv2 (Conv2D)           (None, 9, 9, 512)    2359808     block5_conv1[0][0]               \n",
            "__________________________________________________________________________________________________\n",
            "conv2d_34 (Conv2D)              (None, 8, 8, 112)    57456       concatenate_4[0][0]              \n",
            "__________________________________________________________________________________________________\n",
            "conv2d_36 (Conv2D)              (None, 8, 8, 288)    373536      conv2d_35[0][0]                  \n",
            "__________________________________________________________________________________________________\n",
            "conv2d_38 (Conv2D)              (None, 8, 8, 64)     51264       conv2d_37[0][0]                  \n",
            "__________________________________________________________________________________________________\n",
            "conv2d_39 (Conv2D)              (None, 8, 8, 64)     32832       max_pooling2d_8[0][0]            \n",
            "__________________________________________________________________________________________________\n",
            "conv5_2 (Conv2D)                (None, 9, 9, 512)    2359808     conv5_1[0][0]                    \n",
            "__________________________________________________________________________________________________\n",
            "block5_conv2_C_G (Conv2D)       (None, 9, 9, 512)    2359808     block5_conv1_C_G[0][0]           \n",
            "__________________________________________________________________________________________________\n",
            "block5_conv3 (Conv2D)           (None, 9, 9, 512)    2359808     block5_conv2[0][0]               \n",
            "__________________________________________________________________________________________________\n",
            "concatenate_5 (Concatenate)     (None, 8, 8, 528)    0           conv2d_34[0][0]                  \n",
            "                                                                 conv2d_36[0][0]                  \n",
            "                                                                 conv2d_38[0][0]                  \n",
            "                                                                 conv2d_39[0][0]                  \n",
            "__________________________________________________________________________________________________\n",
            "conv5_3 (Conv2D)                (None, 9, 9, 512)    2359808     conv5_2[0][0]                    \n",
            "__________________________________________________________________________________________________\n",
            "block5_conv3_C_G (Conv2D)       (None, 9, 9, 512)    2359808     block5_conv2_C_G[0][0]           \n",
            "__________________________________________________________________________________________________\n",
            "block5_conv4 (Conv2D)           (None, 9, 9, 512)    2359808     block5_conv3[0][0]               \n",
            "__________________________________________________________________________________________________\n",
            "average_pooling2d_1 (AveragePoo (None, 2, 2, 528)    0           concatenate_5[0][0]              \n",
            "__________________________________________________________________________________________________\n",
            "pool5 (MaxPooling2D)            (None, 4, 4, 512)    0           conv5_3[0][0]                    \n",
            "__________________________________________________________________________________________________\n",
            "block5_pool_C_G (MaxPooling2D)  (None, 4, 4, 512)    0           block5_conv3_C_G[0][0]           \n",
            "__________________________________________________________________________________________________\n",
            "block5_pool (MaxPooling2D)      (None, 4, 4, 512)    0           block5_conv4[0][0]               \n",
            "__________________________________________________________________________________________________\n",
            "conv2d_40 (Conv2D)              (None, 2, 2, 128)    67712       average_pooling2d_1[0][0]        \n",
            "__________________________________________________________________________________________________\n",
            "flatten (Flatten)               (None, 8192)         0           pool5[0][0]                      \n",
            "__________________________________________________________________________________________________\n",
            "flatten_C_G (Flatten)           (None, 8192)         0           block5_pool_C_G[0][0]            \n",
            "__________________________________________________________________________________________________\n",
            "flatten_1 (Flatten)             (None, 8192)         0           block5_pool[0][0]                \n",
            "__________________________________________________________________________________________________\n",
            "flatten_3 (Flatten)             (None, 512)          0           conv2d_40[0][0]                  \n",
            "__________________________________________________________________________________________________\n",
            "fc6 (Dense)                     (None, 512)          4194816     flatten[0][0]                    \n",
            "__________________________________________________________________________________________________\n",
            "dense_C_G (Dense)               (None, 512)          4194816     flatten_C_G[0][0]                \n",
            "__________________________________________________________________________________________________\n",
            "dense_1 (Dense)                 (None, 512)          4194816     flatten_1[0][0]                  \n",
            "__________________________________________________________________________________________________\n",
            "dense_3 (Dense)                 (None, 512)          262656      flatten_3[0][0]                  \n",
            "__________________________________________________________________________________________________\n",
            "add (Add)                       (None, 512)          0           fc6[0][0]                        \n",
            "                                                                 dense_C_G[0][0]                  \n",
            "                                                                 dense_1[0][0]                    \n",
            "                                                                 dense_3[0][0]                    \n",
            "__________________________________________________________________________________________________\n",
            "dense_5 (Dense)                 (None, 512)          262656      add[0][0]                        \n",
            "__________________________________________________________________________________________________\n",
            "dropout_1 (Dropout)             (None, 512)          0           dense_5[0][0]                    \n",
            "__________________________________________________________________________________________________\n",
            "dense_6 (Dense)                 (None, 256)          131328      dropout_1[0][0]                  \n",
            "__________________________________________________________________________________________________\n",
            "dropout_2 (Dropout)             (None, 256)          0           dense_6[0][0]                    \n",
            "__________________________________________________________________________________________________\n",
            "dense_7 (Dense)                 (None, 50)           12850       dropout_2[0][0]                  \n",
            "==================================================================================================\n",
            "Total params: 65,393,074\n",
            "Trainable params: 50,678,386\n",
            "Non-trainable params: 14,714,688\n",
            "__________________________________________________________________________________________________\n"
          ]
        }
      ]
    },
    {
      "cell_type": "markdown",
      "metadata": {
        "id": "jOHxApVQWkwF"
      },
      "source": [
        "###Training the model"
      ]
    },
    {
      "cell_type": "code",
      "metadata": {
        "id": "WxugLwGjcsYV"
      },
      "source": [
        "Hybrid_Model.compile(\n",
        "    loss='categorical_crossentropy', #loss function used is -> categorical crossentropy\n",
        "    optimizer=Adam(learning_rate=0.0001), #Adam Optimizer with a learning rate of 0.0001\n",
        "    metrics=['accuracy'] #metrics to improve upon -> accuracy\n",
        ")"
      ],
      "execution_count": null,
      "outputs": []
    },
    {
      "cell_type": "code",
      "metadata": {
        "colab": {
          "base_uri": "https://localhost:8080/"
        },
        "id": "HmesA7oscsUv",
        "outputId": "897a092e-c96b-4339-8d22-e9860ee4e0c3"
      },
      "source": [
        "history=Hybrid_Model.fit(\n",
        "    (np.array(X_train),np.array(X_train),np.array(X_train),np.array(X_train)), np.array(Y_train), batch_size=128,\n",
        "    epochs=120, verbose=2,\n",
        "    validation_data=((np.array(X_test),np.array(X_test),np.array(X_test),np.array(X_test)),np.array(Y_test)),\n",
        ")"
      ],
      "execution_count": null,
      "outputs": [
        {
          "output_type": "stream",
          "name": "stdout",
          "text": [
            "Epoch 1/120\n",
            "5/5 - 126s - loss: 51.0751 - accuracy: 0.0356 - val_loss: 13.0911 - val_accuracy: 0.0745\n",
            "Epoch 2/120\n",
            "5/5 - 20s - loss: 23.5790 - accuracy: 0.0587 - val_loss: 6.7977 - val_accuracy: 0.1809\n",
            "Epoch 3/120\n",
            "5/5 - 20s - loss: 15.4681 - accuracy: 0.1014 - val_loss: 4.0677 - val_accuracy: 0.3617\n",
            "Epoch 4/120\n",
            "5/5 - 20s - loss: 11.1315 - accuracy: 0.1708 - val_loss: 2.6367 - val_accuracy: 0.5053\n",
            "Epoch 5/120\n",
            "5/5 - 20s - loss: 8.4277 - accuracy: 0.2349 - val_loss: 1.7904 - val_accuracy: 0.5904\n",
            "Epoch 6/120\n",
            "5/5 - 20s - loss: 6.3217 - accuracy: 0.3274 - val_loss: 1.2866 - val_accuracy: 0.7021\n",
            "Epoch 7/120\n",
            "5/5 - 20s - loss: 4.9996 - accuracy: 0.3861 - val_loss: 1.0426 - val_accuracy: 0.7447\n",
            "Epoch 8/120\n",
            "5/5 - 20s - loss: 3.9253 - accuracy: 0.4484 - val_loss: 0.9136 - val_accuracy: 0.7713\n",
            "Epoch 9/120\n",
            "5/5 - 20s - loss: 3.3243 - accuracy: 0.4698 - val_loss: 0.7815 - val_accuracy: 0.8085\n",
            "Epoch 10/120\n",
            "5/5 - 20s - loss: 2.7588 - accuracy: 0.5320 - val_loss: 0.7067 - val_accuracy: 0.8298\n",
            "Epoch 11/120\n",
            "5/5 - 20s - loss: 2.6755 - accuracy: 0.5320 - val_loss: 0.6248 - val_accuracy: 0.8670\n",
            "Epoch 12/120\n",
            "5/5 - 20s - loss: 2.2361 - accuracy: 0.5943 - val_loss: 0.5224 - val_accuracy: 0.8777\n",
            "Epoch 13/120\n",
            "5/5 - 20s - loss: 2.0947 - accuracy: 0.5925 - val_loss: 0.4609 - val_accuracy: 0.8883\n",
            "Epoch 14/120\n",
            "5/5 - 20s - loss: 1.9437 - accuracy: 0.6085 - val_loss: 0.4049 - val_accuracy: 0.9043\n",
            "Epoch 15/120\n",
            "5/5 - 20s - loss: 1.6599 - accuracy: 0.6851 - val_loss: 0.3731 - val_accuracy: 0.9202\n",
            "Epoch 16/120\n",
            "5/5 - 20s - loss: 1.6746 - accuracy: 0.6690 - val_loss: 0.3529 - val_accuracy: 0.9149\n",
            "Epoch 17/120\n",
            "5/5 - 20s - loss: 1.4531 - accuracy: 0.6868 - val_loss: 0.3288 - val_accuracy: 0.9255\n",
            "Epoch 18/120\n",
            "5/5 - 20s - loss: 1.1848 - accuracy: 0.7509 - val_loss: 0.3190 - val_accuracy: 0.9255\n",
            "Epoch 19/120\n",
            "5/5 - 20s - loss: 1.0568 - accuracy: 0.7633 - val_loss: 0.3327 - val_accuracy: 0.9149\n",
            "Epoch 20/120\n",
            "5/5 - 20s - loss: 1.0633 - accuracy: 0.7598 - val_loss: 0.3207 - val_accuracy: 0.9255\n",
            "Epoch 21/120\n",
            "5/5 - 20s - loss: 1.1504 - accuracy: 0.7402 - val_loss: 0.2852 - val_accuracy: 0.9255\n",
            "Epoch 22/120\n",
            "5/5 - 20s - loss: 0.9431 - accuracy: 0.7883 - val_loss: 0.2558 - val_accuracy: 0.9309\n",
            "Epoch 23/120\n",
            "5/5 - 20s - loss: 0.9239 - accuracy: 0.8185 - val_loss: 0.2295 - val_accuracy: 0.9362\n",
            "Epoch 24/120\n",
            "5/5 - 21s - loss: 0.8919 - accuracy: 0.7989 - val_loss: 0.2106 - val_accuracy: 0.9415\n",
            "Epoch 25/120\n",
            "5/5 - 20s - loss: 0.7194 - accuracy: 0.8274 - val_loss: 0.1925 - val_accuracy: 0.9574\n",
            "Epoch 26/120\n",
            "5/5 - 20s - loss: 0.8018 - accuracy: 0.8167 - val_loss: 0.1839 - val_accuracy: 0.9574\n",
            "Epoch 27/120\n",
            "5/5 - 20s - loss: 0.5974 - accuracy: 0.8541 - val_loss: 0.1803 - val_accuracy: 0.9521\n",
            "Epoch 28/120\n",
            "5/5 - 20s - loss: 0.6581 - accuracy: 0.8416 - val_loss: 0.1834 - val_accuracy: 0.9521\n",
            "Epoch 29/120\n",
            "5/5 - 20s - loss: 0.6253 - accuracy: 0.8577 - val_loss: 0.1826 - val_accuracy: 0.9521\n",
            "Epoch 30/120\n",
            "5/5 - 20s - loss: 0.5745 - accuracy: 0.8594 - val_loss: 0.1768 - val_accuracy: 0.9415\n",
            "Epoch 31/120\n",
            "5/5 - 20s - loss: 0.5781 - accuracy: 0.8594 - val_loss: 0.1720 - val_accuracy: 0.9468\n",
            "Epoch 32/120\n",
            "5/5 - 20s - loss: 0.5447 - accuracy: 0.8772 - val_loss: 0.1617 - val_accuracy: 0.9415\n",
            "Epoch 33/120\n",
            "5/5 - 20s - loss: 0.5316 - accuracy: 0.8879 - val_loss: 0.1610 - val_accuracy: 0.9415\n",
            "Epoch 34/120\n",
            "5/5 - 20s - loss: 0.4794 - accuracy: 0.8790 - val_loss: 0.1615 - val_accuracy: 0.9415\n",
            "Epoch 35/120\n",
            "5/5 - 20s - loss: 0.3920 - accuracy: 0.8968 - val_loss: 0.1603 - val_accuracy: 0.9468\n",
            "Epoch 36/120\n",
            "5/5 - 20s - loss: 0.3964 - accuracy: 0.8843 - val_loss: 0.1648 - val_accuracy: 0.9415\n",
            "Epoch 37/120\n",
            "5/5 - 20s - loss: 0.4523 - accuracy: 0.8968 - val_loss: 0.1705 - val_accuracy: 0.9468\n",
            "Epoch 38/120\n",
            "5/5 - 20s - loss: 0.4591 - accuracy: 0.8879 - val_loss: 0.1611 - val_accuracy: 0.9521\n",
            "Epoch 39/120\n",
            "5/5 - 20s - loss: 0.4084 - accuracy: 0.8986 - val_loss: 0.1584 - val_accuracy: 0.9521\n",
            "Epoch 40/120\n",
            "5/5 - 20s - loss: 0.3109 - accuracy: 0.9324 - val_loss: 0.1593 - val_accuracy: 0.9521\n",
            "Epoch 41/120\n",
            "5/5 - 20s - loss: 0.3877 - accuracy: 0.9093 - val_loss: 0.1558 - val_accuracy: 0.9521\n",
            "Epoch 42/120\n",
            "5/5 - 20s - loss: 0.3172 - accuracy: 0.9288 - val_loss: 0.1539 - val_accuracy: 0.9521\n",
            "Epoch 43/120\n",
            "5/5 - 20s - loss: 0.4117 - accuracy: 0.9057 - val_loss: 0.1576 - val_accuracy: 0.9521\n",
            "Epoch 44/120\n",
            "5/5 - 20s - loss: 0.3009 - accuracy: 0.9039 - val_loss: 0.1565 - val_accuracy: 0.9521\n",
            "Epoch 45/120\n",
            "5/5 - 20s - loss: 0.2808 - accuracy: 0.9164 - val_loss: 0.1566 - val_accuracy: 0.9574\n",
            "Epoch 46/120\n",
            "5/5 - 20s - loss: 0.3528 - accuracy: 0.9199 - val_loss: 0.1566 - val_accuracy: 0.9574\n",
            "Epoch 47/120\n",
            "5/5 - 20s - loss: 0.3445 - accuracy: 0.8986 - val_loss: 0.1507 - val_accuracy: 0.9681\n",
            "Epoch 48/120\n",
            "5/5 - 20s - loss: 0.3549 - accuracy: 0.9146 - val_loss: 0.1478 - val_accuracy: 0.9681\n",
            "Epoch 49/120\n",
            "5/5 - 20s - loss: 0.2798 - accuracy: 0.9377 - val_loss: 0.1454 - val_accuracy: 0.9681\n",
            "Epoch 50/120\n",
            "5/5 - 20s - loss: 0.3636 - accuracy: 0.9093 - val_loss: 0.1411 - val_accuracy: 0.9734\n",
            "Epoch 51/120\n",
            "5/5 - 20s - loss: 0.2885 - accuracy: 0.9181 - val_loss: 0.1386 - val_accuracy: 0.9628\n",
            "Epoch 52/120\n",
            "5/5 - 20s - loss: 0.2110 - accuracy: 0.9359 - val_loss: 0.1333 - val_accuracy: 0.9574\n",
            "Epoch 53/120\n",
            "5/5 - 20s - loss: 0.2701 - accuracy: 0.9377 - val_loss: 0.1288 - val_accuracy: 0.9681\n",
            "Epoch 54/120\n",
            "5/5 - 20s - loss: 0.3306 - accuracy: 0.9235 - val_loss: 0.1233 - val_accuracy: 0.9681\n",
            "Epoch 55/120\n",
            "5/5 - 20s - loss: 0.2863 - accuracy: 0.9217 - val_loss: 0.1144 - val_accuracy: 0.9734\n",
            "Epoch 56/120\n",
            "5/5 - 20s - loss: 0.2590 - accuracy: 0.9270 - val_loss: 0.1053 - val_accuracy: 0.9787\n",
            "Epoch 57/120\n",
            "5/5 - 20s - loss: 0.2418 - accuracy: 0.9413 - val_loss: 0.1028 - val_accuracy: 0.9787\n",
            "Epoch 58/120\n",
            "5/5 - 20s - loss: 0.2147 - accuracy: 0.9413 - val_loss: 0.1048 - val_accuracy: 0.9734\n",
            "Epoch 59/120\n",
            "5/5 - 20s - loss: 0.1875 - accuracy: 0.9466 - val_loss: 0.1067 - val_accuracy: 0.9734\n",
            "Epoch 60/120\n",
            "5/5 - 20s - loss: 0.2739 - accuracy: 0.9324 - val_loss: 0.1100 - val_accuracy: 0.9734\n",
            "Epoch 61/120\n",
            "5/5 - 20s - loss: 0.2099 - accuracy: 0.9413 - val_loss: 0.1124 - val_accuracy: 0.9734\n",
            "Epoch 62/120\n",
            "5/5 - 20s - loss: 0.2250 - accuracy: 0.9448 - val_loss: 0.1122 - val_accuracy: 0.9734\n",
            "Epoch 63/120\n",
            "5/5 - 20s - loss: 0.1823 - accuracy: 0.9520 - val_loss: 0.1086 - val_accuracy: 0.9734\n",
            "Epoch 64/120\n",
            "5/5 - 20s - loss: 0.2041 - accuracy: 0.9466 - val_loss: 0.1130 - val_accuracy: 0.9734\n",
            "Epoch 65/120\n",
            "5/5 - 20s - loss: 0.1601 - accuracy: 0.9626 - val_loss: 0.1235 - val_accuracy: 0.9787\n",
            "Epoch 66/120\n",
            "5/5 - 20s - loss: 0.1812 - accuracy: 0.9413 - val_loss: 0.1309 - val_accuracy: 0.9787\n",
            "Epoch 67/120\n",
            "5/5 - 20s - loss: 0.1889 - accuracy: 0.9431 - val_loss: 0.1242 - val_accuracy: 0.9787\n",
            "Epoch 68/120\n",
            "5/5 - 20s - loss: 0.1957 - accuracy: 0.9591 - val_loss: 0.1313 - val_accuracy: 0.9734\n",
            "Epoch 69/120\n",
            "5/5 - 20s - loss: 0.1359 - accuracy: 0.9644 - val_loss: 0.1385 - val_accuracy: 0.9734\n",
            "Epoch 70/120\n",
            "5/5 - 20s - loss: 0.1916 - accuracy: 0.9520 - val_loss: 0.1287 - val_accuracy: 0.9734\n",
            "Epoch 71/120\n",
            "5/5 - 20s - loss: 0.1505 - accuracy: 0.9573 - val_loss: 0.1100 - val_accuracy: 0.9787\n",
            "Epoch 72/120\n",
            "5/5 - 20s - loss: 0.1303 - accuracy: 0.9662 - val_loss: 0.0986 - val_accuracy: 0.9787\n",
            "Epoch 73/120\n",
            "5/5 - 20s - loss: 0.2452 - accuracy: 0.9448 - val_loss: 0.0954 - val_accuracy: 0.9787\n",
            "Epoch 74/120\n",
            "5/5 - 20s - loss: 0.1731 - accuracy: 0.9484 - val_loss: 0.0931 - val_accuracy: 0.9787\n",
            "Epoch 75/120\n",
            "5/5 - 20s - loss: 0.1981 - accuracy: 0.9502 - val_loss: 0.0951 - val_accuracy: 0.9787\n",
            "Epoch 76/120\n",
            "5/5 - 20s - loss: 0.1146 - accuracy: 0.9626 - val_loss: 0.1031 - val_accuracy: 0.9787\n",
            "Epoch 77/120\n",
            "5/5 - 20s - loss: 0.1750 - accuracy: 0.9395 - val_loss: 0.1044 - val_accuracy: 0.9734\n",
            "Epoch 78/120\n",
            "5/5 - 20s - loss: 0.0944 - accuracy: 0.9751 - val_loss: 0.0958 - val_accuracy: 0.9734\n",
            "Epoch 79/120\n",
            "5/5 - 20s - loss: 0.1798 - accuracy: 0.9591 - val_loss: 0.0904 - val_accuracy: 0.9840\n",
            "Epoch 80/120\n",
            "5/5 - 20s - loss: 0.1424 - accuracy: 0.9555 - val_loss: 0.0818 - val_accuracy: 0.9840\n",
            "Epoch 81/120\n",
            "5/5 - 20s - loss: 0.1888 - accuracy: 0.9520 - val_loss: 0.0760 - val_accuracy: 0.9840\n",
            "Epoch 82/120\n",
            "5/5 - 20s - loss: 0.1389 - accuracy: 0.9680 - val_loss: 0.0744 - val_accuracy: 0.9840\n",
            "Epoch 83/120\n",
            "5/5 - 20s - loss: 0.1211 - accuracy: 0.9680 - val_loss: 0.0738 - val_accuracy: 0.9840\n",
            "Epoch 84/120\n",
            "5/5 - 20s - loss: 0.1328 - accuracy: 0.9573 - val_loss: 0.0742 - val_accuracy: 0.9840\n",
            "Epoch 85/120\n",
            "5/5 - 20s - loss: 0.1654 - accuracy: 0.9591 - val_loss: 0.0766 - val_accuracy: 0.9840\n",
            "Epoch 86/120\n",
            "5/5 - 20s - loss: 0.0984 - accuracy: 0.9715 - val_loss: 0.0777 - val_accuracy: 0.9840\n",
            "Epoch 87/120\n",
            "5/5 - 20s - loss: 0.0576 - accuracy: 0.9822 - val_loss: 0.0749 - val_accuracy: 0.9840\n",
            "Epoch 88/120\n",
            "5/5 - 20s - loss: 0.1376 - accuracy: 0.9680 - val_loss: 0.0738 - val_accuracy: 0.9894\n",
            "Epoch 89/120\n",
            "5/5 - 20s - loss: 0.0707 - accuracy: 0.9733 - val_loss: 0.0698 - val_accuracy: 0.9894\n",
            "Epoch 90/120\n",
            "5/5 - 20s - loss: 0.1042 - accuracy: 0.9715 - val_loss: 0.0695 - val_accuracy: 0.9894\n",
            "Epoch 91/120\n",
            "5/5 - 20s - loss: 0.0718 - accuracy: 0.9769 - val_loss: 0.0730 - val_accuracy: 0.9894\n",
            "Epoch 92/120\n",
            "5/5 - 20s - loss: 0.0719 - accuracy: 0.9733 - val_loss: 0.0721 - val_accuracy: 0.9947\n",
            "Epoch 93/120\n",
            "5/5 - 20s - loss: 0.1159 - accuracy: 0.9698 - val_loss: 0.0729 - val_accuracy: 0.9894\n",
            "Epoch 94/120\n",
            "5/5 - 20s - loss: 0.1890 - accuracy: 0.9644 - val_loss: 0.0756 - val_accuracy: 0.9840\n",
            "Epoch 95/120\n",
            "5/5 - 20s - loss: 0.1458 - accuracy: 0.9733 - val_loss: 0.0793 - val_accuracy: 0.9840\n",
            "Epoch 96/120\n",
            "5/5 - 20s - loss: 0.0753 - accuracy: 0.9769 - val_loss: 0.0762 - val_accuracy: 0.9787\n",
            "Epoch 97/120\n",
            "5/5 - 20s - loss: 0.0906 - accuracy: 0.9644 - val_loss: 0.0727 - val_accuracy: 0.9840\n",
            "Epoch 98/120\n",
            "5/5 - 20s - loss: 0.1457 - accuracy: 0.9609 - val_loss: 0.0688 - val_accuracy: 0.9840\n",
            "Epoch 99/120\n",
            "5/5 - 20s - loss: 0.0984 - accuracy: 0.9715 - val_loss: 0.0661 - val_accuracy: 0.9840\n",
            "Epoch 100/120\n",
            "5/5 - 20s - loss: 0.1102 - accuracy: 0.9662 - val_loss: 0.0688 - val_accuracy: 0.9840\n",
            "Epoch 101/120\n",
            "5/5 - 20s - loss: 0.0789 - accuracy: 0.9769 - val_loss: 0.0715 - val_accuracy: 0.9894\n",
            "Epoch 102/120\n",
            "5/5 - 20s - loss: 0.1100 - accuracy: 0.9698 - val_loss: 0.0670 - val_accuracy: 0.9894\n",
            "Epoch 103/120\n",
            "5/5 - 20s - loss: 0.1260 - accuracy: 0.9662 - val_loss: 0.0637 - val_accuracy: 0.9894\n",
            "Epoch 104/120\n",
            "5/5 - 20s - loss: 0.1161 - accuracy: 0.9840 - val_loss: 0.0637 - val_accuracy: 0.9894\n",
            "Epoch 105/120\n",
            "5/5 - 20s - loss: 0.1115 - accuracy: 0.9715 - val_loss: 0.0660 - val_accuracy: 0.9894\n",
            "Epoch 106/120\n",
            "5/5 - 20s - loss: 0.0864 - accuracy: 0.9769 - val_loss: 0.0641 - val_accuracy: 0.9894\n",
            "Epoch 107/120\n",
            "5/5 - 20s - loss: 0.1065 - accuracy: 0.9698 - val_loss: 0.0615 - val_accuracy: 0.9947\n",
            "Epoch 108/120\n",
            "5/5 - 20s - loss: 0.1121 - accuracy: 0.9680 - val_loss: 0.0585 - val_accuracy: 0.9947\n",
            "Epoch 109/120\n",
            "5/5 - 20s - loss: 0.1700 - accuracy: 0.9644 - val_loss: 0.0592 - val_accuracy: 0.9947\n",
            "Epoch 110/120\n",
            "5/5 - 20s - loss: 0.0886 - accuracy: 0.9751 - val_loss: 0.0605 - val_accuracy: 0.9947\n",
            "Epoch 111/120\n",
            "5/5 - 20s - loss: 0.1172 - accuracy: 0.9680 - val_loss: 0.0629 - val_accuracy: 0.9947\n",
            "Epoch 112/120\n",
            "5/5 - 20s - loss: 0.0785 - accuracy: 0.9751 - val_loss: 0.0661 - val_accuracy: 0.9947\n",
            "Epoch 113/120\n",
            "5/5 - 20s - loss: 0.0951 - accuracy: 0.9733 - val_loss: 0.0675 - val_accuracy: 0.9947\n",
            "Epoch 114/120\n",
            "5/5 - 20s - loss: 0.1370 - accuracy: 0.9733 - val_loss: 0.0651 - val_accuracy: 0.9947\n",
            "Epoch 115/120\n",
            "5/5 - 20s - loss: 0.1456 - accuracy: 0.9715 - val_loss: 0.0626 - val_accuracy: 0.9894\n",
            "Epoch 116/120\n",
            "5/5 - 20s - loss: 0.1203 - accuracy: 0.9644 - val_loss: 0.0578 - val_accuracy: 0.9947\n",
            "Epoch 117/120\n",
            "5/5 - 20s - loss: 0.0961 - accuracy: 0.9662 - val_loss: 0.0565 - val_accuracy: 0.9947\n",
            "Epoch 118/120\n",
            "5/5 - 20s - loss: 0.1346 - accuracy: 0.9751 - val_loss: 0.0557 - val_accuracy: 0.9947\n",
            "Epoch 119/120\n",
            "5/5 - 20s - loss: 0.0918 - accuracy: 0.9822 - val_loss: 0.0540 - val_accuracy: 0.9947\n",
            "Epoch 120/120\n",
            "5/5 - 20s - loss: 0.1544 - accuracy: 0.9644 - val_loss: 0.0543 - val_accuracy: 0.9947\n"
          ]
        }
      ]
    },
    {
      "cell_type": "code",
      "metadata": {
        "colab": {
          "base_uri": "https://localhost:8080/"
        },
        "id": "N-tuAzJ-X87f",
        "outputId": "05c893cb-5342-4484-d06d-f60b44ab3f6f"
      },
      "source": [
        "model_score = Hybrid_Model.evaluate((np.array(X_test),np.array(X_test),np.array(X_test),np.array(X_test)) , np.array(Y_test), verbose=0)\n",
        "\n",
        "print(f'test loss {model_score[0]:.4f}')\n",
        "print(f'test accuracy {model_score[1]:.4f}')"
      ],
      "execution_count": null,
      "outputs": [
        {
          "output_type": "stream",
          "name": "stdout",
          "text": [
            "test loss 0.0543\n",
            "test accuracy 0.9947\n"
          ]
        }
      ]
    },
    {
      "cell_type": "code",
      "metadata": {
        "id": "dxGHb1RVrsDA",
        "colab": {
          "base_uri": "https://localhost:8080/",
          "height": 295
        },
        "outputId": "3a866a0e-31db-48fa-da63-47581232d19d"
      },
      "source": [
        "plt.plot(history.history['accuracy'])\n",
        "plt.plot(history.history['val_accuracy'])\n",
        "plt.title('CNN  - model accuracy')\n",
        "plt.ylabel('accuracy')\n",
        "plt.xlabel('no. of epochs')\n",
        "plt.legend(['train', 'test'], loc='upper left')\n",
        "plt.show()"
      ],
      "execution_count": null,
      "outputs": [
        {
          "output_type": "display_data",
          "data": {
            "image/png": "[encoded data removed]",
            "text/plain": [
              "<Figure size 432x288 with 1 Axes>"
            ]
          },
          "metadata": {
            "needs_background": "light"
          }
        }
      ]
    },
    {
      "cell_type": "code",
      "metadata": {
        "id": "WDSjnvOVrr3E",
        "colab": {
          "base_uri": "https://localhost:8080/",
          "height": 295
        },
        "outputId": "13f7210a-07e5-45df-d137-b768ff1929e2"
      },
      "source": [
        "plt.plot(history.history['loss'])\n",
        "plt.plot(history.history['val_loss'])\n",
        "plt.title('CNN - model loss')\n",
        "plt.ylabel('loss')\n",
        "plt.xlabel('no. of epochs')\n",
        "plt.legend(['train', 'test'], loc='upper right')\n",
        "plt.show()"
      ],
      "execution_count": null,
      "outputs": [
        {
          "output_type": "display_data",
          "data": {
            "image/png": "[encoded data removed]",
            "text/plain": [
              "<Figure size 432x288 with 1 Axes>"
            ]
          },
          "metadata": {
            "needs_background": "light"
          }
        }
      ]
    },
    {
      "cell_type": "markdown",
      "metadata": {
        "id": "LOz1joI-aNbx"
      },
      "source": [
        "###After training our accuracy is nearly 99% as seen above on test set."
      ]
    },
    {
      "cell_type": "markdown",
      "metadata": {
        "id": "uaXI5XQFWWhu"
      },
      "source": [
        "##Predicting classes on the test data"
      ]
    },
    {
      "cell_type": "code",
      "metadata": {
        "id": "B0V7WOrMsF5Z"
      },
      "source": [
        "predicted_classes = Hybrid_Model.predict((X_test,X_test,X_test,X_test)) #predict the classes on the test set\n",
        "classes_x=np.argmax(predicted_classes,axis=1) #max output neuron --> respective class"
      ],
      "execution_count": null,
      "outputs": []
    },
    {
      "cell_type": "code",
      "metadata": {
        "id": "DlVu9_MSsFh0"
      },
      "source": [
        "correct_classified_indices = np.nonzero(classes_x == y_test)[0] #compare with correct labels\n",
        "incorrect_classified_indices = np.nonzero(classes_x != y_test)[0] #compare with incorrect labels"
      ],
      "execution_count": null,
      "outputs": []
    },
    {
      "cell_type": "markdown",
      "metadata": {
        "id": "hISXFsvp1NU6"
      },
      "source": [
        "####We will see the claases which are correctly and and incorrectly classified"
      ]
    },
    {
      "cell_type": "code",
      "metadata": {
        "colab": {
          "base_uri": "https://localhost:8080/"
        },
        "id": "wR6fwN7isFWP",
        "outputId": "7be029a5-6ed8-49ba-f3bb-40107bab0c18"
      },
      "source": [
        "correct_classified_indices"
      ],
      "execution_count": null,
      "outputs": [
        {
          "output_type": "execute_result",
          "data": {
            "text/plain": [
              "array([  0,   1,   2,   3,   4,   5,   6,   7,   8,  10,  11,  12,  13,\n",
              "        14,  15,  16,  17,  18,  19,  20,  21,  22,  23,  24,  25,  26,\n",
              "        27,  28,  29,  30,  31,  32,  33,  34,  35,  36,  37,  38,  39,\n",
              "        40,  41,  42,  43,  44,  45,  46,  47,  48,  49,  50,  51,  52,\n",
              "        53,  54,  55,  56,  57,  58,  59,  60,  61,  62,  63,  64,  65,\n",
              "        66,  67,  68,  69,  70,  71,  72,  73,  74,  75,  76,  77,  78,\n",
              "        79,  80,  81,  82,  83,  84,  85,  86,  87,  88,  89,  90,  91,\n",
              "        92,  93,  94,  95,  96,  97,  98,  99, 100, 101, 102, 103, 104,\n",
              "       105, 106, 107, 108, 109, 110, 111, 112, 113, 114, 115, 116, 117,\n",
              "       118, 119, 120, 121, 122, 123, 124, 125, 126, 127, 128, 129, 130,\n",
              "       131, 132, 133, 134, 135, 136, 137, 138, 139, 140, 141, 142, 143,\n",
              "       144, 145, 146, 147, 148, 149, 150, 151, 152, 153, 154, 155, 156,\n",
              "       157, 158, 159, 160, 161, 162, 163, 164, 165, 166, 167, 168, 169,\n",
              "       170, 171, 172, 173, 174, 175, 176, 177, 178, 179, 180, 181, 182,\n",
              "       183, 184, 185, 186, 187])"
            ]
          },
          "metadata": {},
          "execution_count": 64
        }
      ]
    },
    {
      "cell_type": "code",
      "metadata": {
        "colab": {
          "base_uri": "https://localhost:8080/"
        },
        "id": "RnnhNPOwsFKt",
        "outputId": "0e7fc36b-1a7a-4e3a-84a4-ca27bb927588"
      },
      "source": [
        "incorrect_classified_indices"
      ],
      "execution_count": null,
      "outputs": [
        {
          "output_type": "execute_result",
          "data": {
            "text/plain": [
              "array([9])"
            ]
          },
          "metadata": {},
          "execution_count": 65
        }
      ]
    },
    {
      "cell_type": "markdown",
      "metadata": {
        "id": "2n75Gn3k4yLt"
      },
      "source": [
        "#To integrate above into a workable attendance system using google sheets\n",
        "### Here we have created a google spreadsheet with the names of the 50 students and their attendance for the day which gets automatically marked by the below snippets converting into a full-fleged model\n",
        "\n",
        "\n",
        "\n"
      ]
    },
    {
      "cell_type": "code",
      "metadata": {
        "colab": {
          "base_uri": "https://localhost:8080/"
        },
        "id": "4impPEA4Y6Tn",
        "outputId": "95a62075-445a-4cb4-fa27-3813e4816a38"
      },
      "source": [
        "pip install gspread==4.0.0 #to mark the attendance in google sheets"
      ],
      "execution_count": null,
      "outputs": [
        {
          "output_type": "stream",
          "name": "stdout",
          "text": [
            "Collecting gspread==4.0.0\n",
            "  Downloading gspread-4.0.0-py3-none-any.whl (29 kB)\n",
            "Requirement already satisfied: google-auth>=1.12.0 in /usr/local/lib/python3.7/dist-packages (from gspread==4.0.0) (1.35.0)\n",
            "Requirement already satisfied: google-auth-oauthlib>=0.4.1 in /usr/local/lib/python3.7/dist-packages (from gspread==4.0.0) (0.4.6)\n",
            "Requirement already satisfied: rsa<5,>=3.1.4 in /usr/local/lib/python3.7/dist-packages (from google-auth>=1.12.0->gspread==4.0.0) (4.7.2)\n",
            "Requirement already satisfied: cachetools<5.0,>=2.0.0 in /usr/local/lib/python3.7/dist-packages (from google-auth>=1.12.0->gspread==4.0.0) (4.2.4)\n",
            "Requirement already satisfied: setuptools>=40.3.0 in /usr/local/lib/python3.7/dist-packages (from google-auth>=1.12.0->gspread==4.0.0) (57.4.0)\n",
            "Requirement already satisfied: pyasn1-modules>=0.2.1 in /usr/local/lib/python3.7/dist-packages (from google-auth>=1.12.0->gspread==4.0.0) (0.2.8)\n",
            "Requirement already satisfied: six>=1.9.0 in /usr/local/lib/python3.7/dist-packages (from google-auth>=1.12.0->gspread==4.0.0) (1.15.0)\n",
            "Requirement already satisfied: requests-oauthlib>=0.7.0 in /usr/local/lib/python3.7/dist-packages (from google-auth-oauthlib>=0.4.1->gspread==4.0.0) (1.3.0)\n",
            "Requirement already satisfied: pyasn1<0.5.0,>=0.4.6 in /usr/local/lib/python3.7/dist-packages (from pyasn1-modules>=0.2.1->google-auth>=1.12.0->gspread==4.0.0) (0.4.8)\n",
            "Requirement already satisfied: requests>=2.0.0 in /usr/local/lib/python3.7/dist-packages (from requests-oauthlib>=0.7.0->google-auth-oauthlib>=0.4.1->gspread==4.0.0) (2.23.0)\n",
            "Requirement already satisfied: oauthlib>=3.0.0 in /usr/local/lib/python3.7/dist-packages (from requests-oauthlib>=0.7.0->google-auth-oauthlib>=0.4.1->gspread==4.0.0) (3.1.1)\n",
            "Requirement already satisfied: chardet<4,>=3.0.2 in /usr/local/lib/python3.7/dist-packages (from requests>=2.0.0->requests-oauthlib>=0.7.0->google-auth-oauthlib>=0.4.1->gspread==4.0.0) (3.0.4)\n",
            "Requirement already satisfied: idna<3,>=2.5 in /usr/local/lib/python3.7/dist-packages (from requests>=2.0.0->requests-oauthlib>=0.7.0->google-auth-oauthlib>=0.4.1->gspread==4.0.0) (2.10)\n",
            "Requirement already satisfied: certifi>=2017.4.17 in /usr/local/lib/python3.7/dist-packages (from requests>=2.0.0->requests-oauthlib>=0.7.0->google-auth-oauthlib>=0.4.1->gspread==4.0.0) (2021.5.30)\n",
            "Requirement already satisfied: urllib3!=1.25.0,!=1.25.1,<1.26,>=1.21.1 in /usr/local/lib/python3.7/dist-packages (from requests>=2.0.0->requests-oauthlib>=0.7.0->google-auth-oauthlib>=0.4.1->gspread==4.0.0) (1.24.3)\n",
            "Installing collected packages: gspread\n",
            "  Attempting uninstall: gspread\n",
            "    Found existing installation: gspread 3.0.1\n",
            "    Uninstalling gspread-3.0.1:\n",
            "      Successfully uninstalled gspread-3.0.1\n",
            "Successfully installed gspread-4.0.0\n"
          ]
        }
      ]
    },
    {
      "cell_type": "code",
      "metadata": {
        "colab": {
          "base_uri": "https://localhost:8080/"
        },
        "id": "Zm-MAX0lNSbg",
        "outputId": "f137763f-bd2a-4266-dd28-faceddee6a45"
      },
      "source": [
        "attend = [] #class number list for atttendance\n",
        "for i in range(len(classes_x)):\n",
        "  if classes_x[i] == y_test[i]: #correctly classified are marked\n",
        "    attend.append(classes_x[i])\n",
        "\n",
        "p_list = []\n",
        "[p_list.append(x) for x in attend if x not in p_list] #remove duplicates\n",
        "\n",
        "for i in range(len(p_list)):\n",
        "  p_list[i] += 1 #index + 1 for sheets\n",
        "\n",
        "#printing the people who are present(their class number)\n",
        "print(p_list)"
      ],
      "execution_count": null,
      "outputs": [
        {
          "output_type": "stream",
          "name": "stdout",
          "text": [
            "[16, 29, 42, 33, 38, 3, 27, 39, 20, 41, 28, 40, 10, 31, 32, 45, 24, 18, 26, 25, 44, 9, 13, 43, 23, 14, 21, 30, 50, 48, 15, 17, 47, 36, 37, 8, 2, 4, 11, 7, 49, 34, 1, 5, 6, 12, 35, 22, 46]\n"
          ]
        }
      ]
    },
    {
      "cell_type": "code",
      "metadata": {
        "colab": {
          "base_uri": "https://localhost:8080/"
        },
        "id": "bU_lzU21ZMpF",
        "outputId": "745b92f7-b711-4352-d021-99568aef3bb2"
      },
      "source": [
        "pip install gspread_formatting"
      ],
      "execution_count": null,
      "outputs": [
        {
          "output_type": "stream",
          "name": "stdout",
          "text": [
            "Collecting gspread_formatting\n",
            "  Downloading gspread_formatting-1.0.4-py2.py3-none-any.whl (21 kB)\n",
            "Requirement already satisfied: gspread>=3.0.0 in /usr/local/lib/python3.7/dist-packages (from gspread_formatting) (4.0.0)\n",
            "Requirement already satisfied: google-auth>=1.12.0 in /usr/local/lib/python3.7/dist-packages (from gspread>=3.0.0->gspread_formatting) (1.35.0)\n",
            "Requirement already satisfied: google-auth-oauthlib>=0.4.1 in /usr/local/lib/python3.7/dist-packages (from gspread>=3.0.0->gspread_formatting) (0.4.6)\n",
            "Requirement already satisfied: six>=1.9.0 in /usr/local/lib/python3.7/dist-packages (from google-auth>=1.12.0->gspread>=3.0.0->gspread_formatting) (1.15.0)\n",
            "Requirement already satisfied: rsa<5,>=3.1.4 in /usr/local/lib/python3.7/dist-packages (from google-auth>=1.12.0->gspread>=3.0.0->gspread_formatting) (4.7.2)\n",
            "Requirement already satisfied: cachetools<5.0,>=2.0.0 in /usr/local/lib/python3.7/dist-packages (from google-auth>=1.12.0->gspread>=3.0.0->gspread_formatting) (4.2.4)\n",
            "Requirement already satisfied: setuptools>=40.3.0 in /usr/local/lib/python3.7/dist-packages (from google-auth>=1.12.0->gspread>=3.0.0->gspread_formatting) (57.4.0)\n",
            "Requirement already satisfied: pyasn1-modules>=0.2.1 in /usr/local/lib/python3.7/dist-packages (from google-auth>=1.12.0->gspread>=3.0.0->gspread_formatting) (0.2.8)\n",
            "Requirement already satisfied: requests-oauthlib>=0.7.0 in /usr/local/lib/python3.7/dist-packages (from google-auth-oauthlib>=0.4.1->gspread>=3.0.0->gspread_formatting) (1.3.0)\n",
            "Requirement already satisfied: pyasn1<0.5.0,>=0.4.6 in /usr/local/lib/python3.7/dist-packages (from pyasn1-modules>=0.2.1->google-auth>=1.12.0->gspread>=3.0.0->gspread_formatting) (0.4.8)\n",
            "Requirement already satisfied: requests>=2.0.0 in /usr/local/lib/python3.7/dist-packages (from requests-oauthlib>=0.7.0->google-auth-oauthlib>=0.4.1->gspread>=3.0.0->gspread_formatting) (2.23.0)\n",
            "Requirement already satisfied: oauthlib>=3.0.0 in /usr/local/lib/python3.7/dist-packages (from requests-oauthlib>=0.7.0->google-auth-oauthlib>=0.4.1->gspread>=3.0.0->gspread_formatting) (3.1.1)\n",
            "Requirement already satisfied: urllib3!=1.25.0,!=1.25.1,<1.26,>=1.21.1 in /usr/local/lib/python3.7/dist-packages (from requests>=2.0.0->requests-oauthlib>=0.7.0->google-auth-oauthlib>=0.4.1->gspread>=3.0.0->gspread_formatting) (1.24.3)\n",
            "Requirement already satisfied: certifi>=2017.4.17 in /usr/local/lib/python3.7/dist-packages (from requests>=2.0.0->requests-oauthlib>=0.7.0->google-auth-oauthlib>=0.4.1->gspread>=3.0.0->gspread_formatting) (2021.5.30)\n",
            "Requirement already satisfied: chardet<4,>=3.0.2 in /usr/local/lib/python3.7/dist-packages (from requests>=2.0.0->requests-oauthlib>=0.7.0->google-auth-oauthlib>=0.4.1->gspread>=3.0.0->gspread_formatting) (3.0.4)\n",
            "Requirement already satisfied: idna<3,>=2.5 in /usr/local/lib/python3.7/dist-packages (from requests>=2.0.0->requests-oauthlib>=0.7.0->google-auth-oauthlib>=0.4.1->gspread>=3.0.0->gspread_formatting) (2.10)\n",
            "Installing collected packages: gspread-formatting\n",
            "Successfully installed gspread-formatting-1.0.4\n"
          ]
        }
      ]
    },
    {
      "cell_type": "code",
      "metadata": {
        "id": "wTIugKjFLByI"
      },
      "source": [
        "import gspread\n",
        "from gspread_formatting import *\n",
        "\n",
        "gc = gspread.service_account(filename='/content/drive/MyDrive/Colab Notebooks/Final-Folder/credentials.json') #load credentials\n",
        "sh = gc.open_by_key('1dMZPunwMGShaGjN0wUXqe4Qq0jbuE1M4EkbLRXlbHKQ') #load API key\n",
        "worksheet = sh.sheet1 #name of the sheet\n",
        "\n",
        "res = worksheet.get_all_values() #fetch all data from spreadsheet\n",
        "\n",
        "# Present List\n",
        "#p_list = [1,4,5,6,7,8,9,10,11,12,13,14,15,16,17,18,19,20,21,22,23,24,25,26,27,29,30,31,32,33,34,35,36,37,50] #students that are present(labels)\n",
        "\n",
        "t_list = [False]*51 #present column\n",
        "\n",
        "for i in p_list: #mark the attendance in array\n",
        "    t_list[i]=True\n",
        "\n",
        "fmt = cellFormat(                                                               \n",
        "    backgroundColor=color(1, 1, 0),\n",
        "    textFormat=textFormat(bold=False, foregroundColor=color(0, 0, 0)),\n",
        "    horizontalAlignment='CENTER'\n",
        "    )\n",
        "\n",
        "for i in range (1,51):\n",
        "    cell_range='A'+str(i+1)+':C'+str(i+1) #cell range to mark\n",
        "    if t_list[i]:\n",
        "        worksheet.update_cell(i+1,3,'Present') #mark present\n",
        "    else:\n",
        "        format_cell_range(worksheet, cell_range, fmt)\n",
        "        worksheet.update_cell(i+1,3,'Absent') #mark absent"
      ],
      "execution_count": null,
      "outputs": []
    },
    {
      "cell_type": "code",
      "metadata": {
        "id": "XTkHUZ3YMiAB"
      },
      "source": [
        "#spreadsheet reset code for any correction or to mark a new day's attendance\n",
        "\n",
        "fmt_refresh = cellFormat(\n",
        "    backgroundColor=color(1, 1, 1),\n",
        "    textFormat=textFormat(bold=False, foregroundColor=color(0, 0, 0)),\n",
        "    horizontalAlignment='CENTER'\n",
        "    )\n",
        "\n",
        "for i in range (1,51):\n",
        "    cell_range='A'+str(i+1)+':C'+str(i+1)                       \n",
        "    format_cell_range(worksheet, cell_range, fmt_refresh)      \n",
        "   # worksheet.update_cell(i+1,3,'--')"
      ],
      "execution_count": null,
      "outputs": []
    }
  ]
}